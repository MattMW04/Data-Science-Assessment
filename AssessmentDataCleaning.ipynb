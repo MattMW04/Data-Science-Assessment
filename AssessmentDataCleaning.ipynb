{
 "cells": [
  {
   "cell_type": "markdown",
   "id": "c9dd8dbe76202054",
   "metadata": {},
   "source": [
    "# Data Science Assessment"
   ]
  },
  {
   "cell_type": "markdown",
   "id": "5c4de50955caeb9a",
   "metadata": {},
   "source": []
  },
  {
   "cell_type": "code",
   "execution_count": 2,
   "id": "1b07eb5b0b704d73",
   "metadata": {
    "ExecuteTime": {
     "end_time": "2024-12-12T15:53:24.536970Z",
     "start_time": "2024-12-12T15:53:24.531838Z"
    }
   },
   "outputs": [],
   "source": [
    "#Cell to import necessary Libraries\n",
    "import pandas as pd\n",
    "import numpy as np\n",
    "from sklearn.impute import SimpleImputer"
   ]
  },
  {
   "cell_type": "markdown",
   "id": "9b86b270a3a4a91e",
   "metadata": {},
   "source": [
    "## Data Exploration\n",
    "In this section, we will load the dataset into a Pandas DataFrame and perform some initial data exploration to understand the dataset better. We will check the shape of the dataset, data types of columns, display the first 5 rows of the dataset, display the last 5 rows of the dataset, display 20 random rows of the dataset, and check for null/NAN values in the dataset. This will help us get the first idea of what the Data is and what data will need to be Cleaned.\n"
   ]
  },
  {
   "cell_type": "code",
   "execution_count": 3,
   "id": "93152008841a4f36",
   "metadata": {
    "ExecuteTime": {
     "end_time": "2024-12-12T15:53:24.621535Z",
     "start_time": "2024-12-12T15:53:24.578614Z"
    }
   },
   "outputs": [
    {
     "name": "stdout",
     "output_type": "stream",
     "text": [
      "Shape of the dataset: (2768, 10)\n",
      "Data types of columns in the dataset: Id                            int64\n",
      "Pregnancies                   int64\n",
      "Glucose                       int64\n",
      "BloodPressure                 int64\n",
      "SkinThickness                 int64\n",
      "Insulin                       int64\n",
      "BMI                         float64\n",
      "DiabetesPedigreeFunction    float64\n",
      "Age                           int64\n",
      "Outcome                       int64\n",
      "dtype: object\n",
      "   Id  Pregnancies  Glucose  BloodPressure  SkinThickness  Insulin   BMI  \\\n",
      "0   1            6      148             72             35        0  33.6   \n",
      "1   2            1       85             66             29        0  26.6   \n",
      "2   3            8      183             64              0        0  23.3   \n",
      "3   4            1       89             66             23       94  28.1   \n",
      "4   5            0      137             40             35      168  43.1   \n",
      "\n",
      "   DiabetesPedigreeFunction  Age  Outcome  \n",
      "0                     0.627   50        1  \n",
      "1                     0.351   31        0  \n",
      "2                     0.672   32        1  \n",
      "3                     0.167   21        0  \n",
      "4                     2.288   33        1  \n",
      "        Id  Pregnancies  Glucose  BloodPressure  SkinThickness  Insulin   BMI  \\\n",
      "2763  2764            2       75             64             24       55  29.7   \n",
      "2764  2765            8      179             72             42      130  32.7   \n",
      "2765  2766            6       85             78              0        0  31.2   \n",
      "2766  2767            0      129            110             46      130  67.1   \n",
      "2767  2768            2       81             72             15       76  30.1   \n",
      "\n",
      "      DiabetesPedigreeFunction  Age  Outcome  \n",
      "2763                     0.370   33        0  \n",
      "2764                     0.719   36        1  \n",
      "2765                     0.382   42        0  \n",
      "2766                     0.319   26        1  \n",
      "2767                     0.547   25        0  \n",
      "        Id  Pregnancies  Glucose  BloodPressure  SkinThickness  Insulin   BMI  \\\n",
      "1485  1486           10       94             72             18        0  23.1   \n",
      "1764  1765            3      129             92             49      155  36.4   \n",
      "1713  1714            0      137             84             27        0  27.3   \n",
      "1284  1285            9      145             88             34      165  30.3   \n",
      "195    196            5      158             84             41      210  39.4   \n",
      "328    329            2      102             86             36      120  45.5   \n",
      "2027  2028            1      151             60              0        0  26.1   \n",
      "2320  2321            4      125             70             18      122  28.9   \n",
      "1706  1707            8      120              0              0        0  30.0   \n",
      "885    886            5       78             48              0        0  33.7   \n",
      "2696  2697            4      144             58             28      140  29.5   \n",
      "683    684            4      125             80              0        0  32.3   \n",
      "2030  2031            2       85             65              0        0  39.6   \n",
      "1545  1546            0      137             68             14      148  24.8   \n",
      "1910  1911            2      129             74             26      205  33.2   \n",
      "974    975            8      196             76             29      280  37.5   \n",
      "1322  1323            1       84             64             23      115  36.9   \n",
      "220    221            0      177             60             29      478  34.6   \n",
      "318    319            3      115             66             39      140  38.1   \n",
      "1745  1746            1      130             60             23      170  28.6   \n",
      "\n",
      "      DiabetesPedigreeFunction  Age  Outcome  \n",
      "1485                     0.595   56        0  \n",
      "1764                     0.968   32        1  \n",
      "1713                     0.231   59        0  \n",
      "1284                     0.771   53        1  \n",
      "195                      0.395   29        1  \n",
      "328                      0.127   23        1  \n",
      "2027                     0.179   22        0  \n",
      "2320                     1.144   45        1  \n",
      "1706                     0.183   38        1  \n",
      "885                      0.654   25        0  \n",
      "2696                     0.287   37        0  \n",
      "683                      0.536   27        1  \n",
      "2030                     0.930   27        0  \n",
      "1545                     0.143   21        0  \n",
      "1910                     0.591   25        0  \n",
      "974                      0.605   57        1  \n",
      "1322                     0.471   28        0  \n",
      "220                      1.072   21        1  \n",
      "318                      0.150   28        0  \n",
      "1745                     0.692   21        0  \n",
      "\n",
      " Null/NAN values: Id                          0\n",
      "Pregnancies                 0\n",
      "Glucose                     0\n",
      "BloodPressure               0\n",
      "SkinThickness               0\n",
      "Insulin                     0\n",
      "BMI                         0\n",
      "DiabetesPedigreeFunction    0\n",
      "Age                         0\n",
      "Outcome                     0\n",
      "dtype: int64\n",
      "\n",
      " Rows with 0 values in the Glucose column: \n",
      "       Id  Pregnancies  Glucose  BloodPressure  SkinThickness  Insulin   BMI  \\\n",
      "75    76            1        0             48             20        0  24.7   \n",
      "182  183            1        0             74             20       23  27.7   \n",
      "342  343            1        0             68             35        0  32.0   \n",
      "349  350            5        0             80             32        0  41.0   \n",
      "502  503            6        0             68             41        0  39.0   \n",
      "\n",
      "     DiabetesPedigreeFunction  Age  Outcome  \n",
      "75                      0.140   22        0  \n",
      "182                     0.299   21        0  \n",
      "342                     0.389   22        0  \n",
      "349                     0.346   37        1  \n",
      "502                     0.727   41        1  \n",
      "\n",
      " Summary Statistics of the dataset: \n",
      "                 Id  Pregnancies      Glucose  BloodPressure  SkinThickness  \\\n",
      "count  2768.000000  2768.000000  2768.000000    2768.000000    2768.000000   \n",
      "mean   1384.500000     3.742775   121.102601      69.134393      20.824422   \n",
      "std     799.197097     3.323801    32.036508      19.231438      16.059596   \n",
      "min       1.000000     0.000000     0.000000       0.000000       0.000000   \n",
      "25%     692.750000     1.000000    99.000000      62.000000       0.000000   \n",
      "50%    1384.500000     3.000000   117.000000      72.000000      23.000000   \n",
      "75%    2076.250000     6.000000   141.000000      80.000000      32.000000   \n",
      "max    2768.000000    17.000000   199.000000     122.000000     110.000000   \n",
      "\n",
      "           Insulin          BMI  DiabetesPedigreeFunction          Age  \\\n",
      "count  2768.000000  2768.000000               2768.000000  2768.000000   \n",
      "mean     80.127890    32.137392                  0.471193    33.132225   \n",
      "std     112.301933     8.076127                  0.325669    11.777230   \n",
      "min       0.000000     0.000000                  0.078000    21.000000   \n",
      "25%       0.000000    27.300000                  0.244000    24.000000   \n",
      "50%      37.000000    32.200000                  0.375000    29.000000   \n",
      "75%     130.000000    36.625000                  0.624000    40.000000   \n",
      "max     846.000000    80.600000                  2.420000    81.000000   \n",
      "\n",
      "           Outcome  \n",
      "count  2768.000000  \n",
      "mean      0.343931  \n",
      "std       0.475104  \n",
      "min       0.000000  \n",
      "25%       0.000000  \n",
      "50%       0.000000  \n",
      "75%       1.000000  \n",
      "max       1.000000  \n"
     ]
    }
   ],
   "source": [
    "# Define Path to Dataset\n",
    "path = \"Datasets/Diabetes Dataset.csv\"\n",
    "\n",
    "# Load dataset into Pandas DataFrame\n",
    "df = pd.read_csv(path)\n",
    "\n",
    "# Display the shape of the dataset\n",
    "print(f\"Shape of the dataset: {df.shape}\")\n",
    "\n",
    "#Display data types of columns in the Dataset\n",
    "print(f\"Data types of columns in the dataset: {df.dtypes}\")\n",
    "\n",
    "# Display the first 5 rows of the dataset\n",
    "print(df.head())\n",
    "\n",
    "# display last 5 rows of the dataset\n",
    "print(df.tail())\n",
    "\n",
    "# display 20 rows of data \n",
    "print(df.sample(20))\n",
    "\n",
    "# Display null/NAN values in the dataset\n",
    "print(f\"\\n Null/NAN values:\", df.isnull().sum())\n",
    "\n",
    "#Display rows with 0 values in the Glucose a column\n",
    "print(f\"\\n Rows with 0 values in the Glucose column: \\n\", df.loc[df['Glucose'] == 0].head())\n",
    "\n",
    "# Display the summary statistics of the dataset\n",
    "print(f\"\\n Summary Statistics of the dataset: \\n\", df.describe())\n",
    "\n",
    "\n"
   ]
  },
  {
   "cell_type": "code",
   "execution_count": 4,
   "id": "425fb675",
   "metadata": {},
   "outputs": [
    {
     "name": "stdout",
     "output_type": "stream",
     "text": [
      "\n",
      " Number of each class in the Outcome column: \n",
      " Outcome\n",
      "0    1816\n",
      "1     952\n",
      "Name: count, dtype: int64\n"
     ]
    }
   ],
   "source": [
    "# count the number of each class in the Outcome column\n",
    "print(f\"\\n Number of each class in the Outcome column: \\n\", df['Outcome'].value_counts())\n"
   ]
  },
  {
   "cell_type": "markdown",
   "id": "7a7cf314cd4f05ee",
   "metadata": {},
   "source": [
    "## Continued Data Exploration\n",
    "From our initial Exploration, we can see that there are no NAN/ Null values in the dataset. However, some columns have 0 in which should not be possible. We will explore which ones these are in a below cell"
   ]
  },
  {
   "cell_type": "code",
   "execution_count": 5,
   "id": "1141f4d7527dc21f",
   "metadata": {
    "ExecuteTime": {
     "end_time": "2024-12-12T15:53:24.685198Z",
     "start_time": "2024-12-12T15:53:24.660555Z"
    }
   },
   "outputs": [
    {
     "name": "stdout",
     "output_type": "stream",
     "text": [
      "\n",
      " Examples of Rows with 0 values in the Glucose column: \n",
      "       Id  Pregnancies  Glucose  BloodPressure  SkinThickness  Insulin   BMI  \\\n",
      "75    76            1        0             48             20        0  24.7   \n",
      "182  183            1        0             74             20       23  27.7   \n",
      "342  343            1        0             68             35        0  32.0   \n",
      "349  350            5        0             80             32        0  41.0   \n",
      "502  503            6        0             68             41        0  39.0   \n",
      "\n",
      "     DiabetesPedigreeFunction  Age  Outcome  \n",
      "75                      0.140   22        0  \n",
      "182                     0.299   21        0  \n",
      "342                     0.389   22        0  \n",
      "349                     0.346   37        1  \n",
      "502                     0.727   41        1  \n",
      "\n",
      " Examples of Rows with 0 values in the BloodPressure column: \n",
      "     Id  Pregnancies  Glucose  BloodPressure  SkinThickness  Insulin   BMI  \\\n",
      "7    8           10      115              0              0        0  35.3   \n",
      "15  16            7      100              0              0        0  30.0   \n",
      "49  50            7      105              0              0        0   0.0   \n",
      "60  61            2       84              0              0        0   0.0   \n",
      "78  79            0      131              0              0        0  43.2   \n",
      "\n",
      "    DiabetesPedigreeFunction  Age  Outcome  \n",
      "7                      0.134   29        0  \n",
      "15                     0.484   32        1  \n",
      "49                     0.305   24        0  \n",
      "60                     0.304   21        0  \n",
      "78                     0.270   26        1  \n",
      "\n",
      " Examples of Rows with 0 values in the SkinThickness column: \n",
      "     Id  Pregnancies  Glucose  BloodPressure  SkinThickness  Insulin   BMI  \\\n",
      "2    3            8      183             64              0        0  23.3   \n",
      "5    6            5      116             74              0        0  25.6   \n",
      "7    8           10      115              0              0        0  35.3   \n",
      "9   10            8      125             96              0        0   0.0   \n",
      "10  11            4      110             92              0        0  37.6   \n",
      "\n",
      "    DiabetesPedigreeFunction  Age  Outcome  \n",
      "2                      0.672   32        1  \n",
      "5                      0.201   30        0  \n",
      "7                      0.134   29        0  \n",
      "9                      0.232   54        1  \n",
      "10                     0.191   30        0  \n",
      "\n",
      " Examples of Rows with 0 values in the Insulin column: \n",
      "    Id  Pregnancies  Glucose  BloodPressure  SkinThickness  Insulin   BMI  \\\n",
      "0   1            6      148             72             35        0  33.6   \n",
      "1   2            1       85             66             29        0  26.6   \n",
      "2   3            8      183             64              0        0  23.3   \n",
      "5   6            5      116             74              0        0  25.6   \n",
      "7   8           10      115              0              0        0  35.3   \n",
      "\n",
      "   DiabetesPedigreeFunction  Age  Outcome  \n",
      "0                     0.627   50        1  \n",
      "1                     0.351   31        0  \n",
      "2                     0.672   32        1  \n",
      "5                     0.201   30        0  \n",
      "7                     0.134   29        0  \n",
      "\n",
      " Examples Rows with 0 values in the BMI column: \n",
      "       Id  Pregnancies  Glucose  BloodPressure  SkinThickness  Insulin  BMI  \\\n",
      "9     10            8      125             96              0        0  0.0   \n",
      "49    50            7      105              0              0        0  0.0   \n",
      "60    61            2       84              0              0        0  0.0   \n",
      "81    82            2       74              0              0        0  0.0   \n",
      "145  146            0      102             75             23        0  0.0   \n",
      "\n",
      "     DiabetesPedigreeFunction  Age  Outcome  \n",
      "9                       0.232   54        1  \n",
      "49                      0.305   24        0  \n",
      "60                      0.304   21        0  \n",
      "81                      0.102   22        0  \n",
      "145                     0.572   21        0  \n",
      "\n",
      " Examples of Rows with 0 values in the DiabetesPedigreeFunction column: \n",
      " Empty DataFrame\n",
      "Columns: [Id, Pregnancies, Glucose, BloodPressure, SkinThickness, Insulin, BMI, DiabetesPedigreeFunction, Age, Outcome]\n",
      "Index: []\n",
      "\n",
      " Examples of Rows with 0 values in the Age column: \n",
      " Empty DataFrame\n",
      "Columns: [Id, Pregnancies, Glucose, BloodPressure, SkinThickness, Insulin, BMI, DiabetesPedigreeFunction, Age, Outcome]\n",
      "Index: []\n"
     ]
    }
   ],
   "source": [
    "#Display rows with 0 Value in the Glucose  column\n",
    "print(f\"\\n Examples of Rows with 0 values in the Glucose column: \\n\", df.loc[df['Glucose'] == 0].head())\n",
    "#Display rows with 0 Value in the BloodPressure  column\n",
    "print(f\"\\n Examples of Rows with 0 values in the BloodPressure column: \\n\", df.loc[df['BloodPressure'] == 0].head())\n",
    "#Display rows with 0 Value in the SkinThickness  column\n",
    "print(f\"\\n Examples of Rows with 0 values in the SkinThickness column: \\n\", df.loc[df['SkinThickness'] == 0].head())\n",
    "#Display rows with 0 Value in the Insulin  column\n",
    "print(f\"\\n Examples of Rows with 0 values in the Insulin column: \\n\", df.loc[df['Insulin'] == 0].head())\n",
    "#Display rows with 0 Value in the BMI  column\n",
    "print(f\"\\n Examples Rows with 0 values in the BMI column: \\n\", df.loc[df['BMI'] == 0].head())\n",
    "#Display rows with 0 Value in the DiabetesPedigreeFunction  column\n",
    "print(f\"\\n Examples of Rows with 0 values in the DiabetesPedigreeFunction column: \\n\", df.loc[df['DiabetesPedigreeFunction'] == 0].head())\n",
    "#Display rows with 0 Value in the Age  column\n",
    "print(f\"\\n Examples of Rows with 0 values in the Age column: \\n\", df.loc[df['Age'] == 0].head())\n",
    "\n"
   ]
  },
  {
   "cell_type": "markdown",
   "id": "bb0e204e61154e3f",
   "metadata": {},
   "source": [
    "## Data Preprocessing\n",
    "From the first look at the Dataset, we can see that some of the Columns : Skin Thickness, Insulin, BMI, Blood Pressure, and Glucose have zero values which are not possible. We will replace these zero values with NaN values and then check the proportion of missing values in the dataset, which will help us to decide on the best way to handle the missing values. This way, we can make the Data more useful for purpose of Data analytics and any predictive models"
   ]
  },
  {
   "cell_type": "code",
   "execution_count": 6,
   "id": "3cc089f80e4d9160",
   "metadata": {
    "ExecuteTime": {
     "end_time": "2024-12-12T15:53:24.792773Z",
     "start_time": "2024-12-12T15:53:24.783382Z"
    }
   },
   "outputs": [],
   "source": [
    "\n",
    "# Define column names of relevant columns \n",
    "columns_to_clean = ['Glucose', 'BloodPressure', 'SkinThickness', 'Insulin', 'BMI']\n",
    "# Duplicate DataFrame to be worked on (can be used to validate this step to check values have changed)\n",
    "diabetes_data_cleaned = df.copy()\n",
    "# Replace 0 with NAN value using numpy\n",
    "diabetes_data_cleaned[columns_to_clean] = diabetes_data_cleaned[columns_to_clean].replace(0, np.nan)"
   ]
  },
  {
   "cell_type": "markdown",
   "id": "c84dccd3dcd413f",
   "metadata": {},
   "source": [
    "## Data PreProcessing Validation \n",
    "This section will be used to compare the original DataFrame to the Modified dataframe from above (Note: This is just to validate that the above preprocessing worked as intended)\n"
   ]
  },
  {
   "cell_type": "code",
   "execution_count": 7,
   "id": "bf721ef5e05fb5a",
   "metadata": {
    "ExecuteTime": {
     "end_time": "2024-12-12T15:53:24.844884Z",
     "start_time": "2024-12-12T15:53:24.826785Z"
    }
   },
   "outputs": [
    {
     "name": "stdout",
     "output_type": "stream",
     "text": [
      "\n",
      " Original Dataset: \n",
      "    Id  Pregnancies  Glucose  BloodPressure  SkinThickness  Insulin   BMI  \\\n",
      "0   1            6      148             72             35        0  33.6   \n",
      "1   2            1       85             66             29        0  26.6   \n",
      "2   3            8      183             64              0        0  23.3   \n",
      "3   4            1       89             66             23       94  28.1   \n",
      "4   5            0      137             40             35      168  43.1   \n",
      "\n",
      "   DiabetesPedigreeFunction  Age  Outcome  \n",
      "0                     0.627   50        1  \n",
      "1                     0.351   31        0  \n",
      "2                     0.672   32        1  \n",
      "3                     0.167   21        0  \n",
      "4                     2.288   33        1  \n",
      "\n",
      " Cleaned Dataset: \n",
      "    Id  Pregnancies  Glucose  BloodPressure  SkinThickness  Insulin   BMI  \\\n",
      "0   1            6    148.0           72.0           35.0      NaN  33.6   \n",
      "1   2            1     85.0           66.0           29.0      NaN  26.6   \n",
      "2   3            8    183.0           64.0            NaN      NaN  23.3   \n",
      "3   4            1     89.0           66.0           23.0     94.0  28.1   \n",
      "4   5            0    137.0           40.0           35.0    168.0  43.1   \n",
      "\n",
      "   DiabetesPedigreeFunction  Age  Outcome  \n",
      "0                     0.627   50        1  \n",
      "1                     0.351   31        0  \n",
      "2                     0.672   32        1  \n",
      "3                     0.167   21        0  \n",
      "4                     2.288   33        1  \n",
      "\n",
      " Original Dataset: \n",
      "         Id  Pregnancies  Glucose  BloodPressure  SkinThickness  Insulin   BMI  \\\n",
      "2763  2764            2       75             64             24       55  29.7   \n",
      "2764  2765            8      179             72             42      130  32.7   \n",
      "2765  2766            6       85             78              0        0  31.2   \n",
      "2766  2767            0      129            110             46      130  67.1   \n",
      "2767  2768            2       81             72             15       76  30.1   \n",
      "\n",
      "      DiabetesPedigreeFunction  Age  Outcome  \n",
      "2763                     0.370   33        0  \n",
      "2764                     0.719   36        1  \n",
      "2765                     0.382   42        0  \n",
      "2766                     0.319   26        1  \n",
      "2767                     0.547   25        0  \n",
      "\n",
      " Cleaned Dataset: \n",
      "         Id  Pregnancies  Glucose  BloodPressure  SkinThickness  Insulin   BMI  \\\n",
      "2763  2764            2     75.0           64.0           24.0     55.0  29.7   \n",
      "2764  2765            8    179.0           72.0           42.0    130.0  32.7   \n",
      "2765  2766            6     85.0           78.0            NaN      NaN  31.2   \n",
      "2766  2767            0    129.0          110.0           46.0    130.0  67.1   \n",
      "2767  2768            2     81.0           72.0           15.0     76.0  30.1   \n",
      "\n",
      "      DiabetesPedigreeFunction  Age  Outcome  \n",
      "2763                     0.370   33        0  \n",
      "2764                     0.719   36        1  \n",
      "2765                     0.382   42        0  \n",
      "2766                     0.319   26        1  \n",
      "2767                     0.547   25        0  \n"
     ]
    }
   ],
   "source": [
    "# Display the first 5 rows of the original dataset\n",
    "print(\"\\n Original Dataset: \\n\", df.head())\n",
    "# Display the first 5 rows of the cleaned dataset\n",
    "print(\"\\n Cleaned Dataset: \\n\", diabetes_data_cleaned.head())\n",
    "\n",
    "# Display the last 5 rows of the original dataset\n",
    "print(\"\\n Original Dataset: \\n\", df.tail())\n",
    "# Display the last 5 rows of the cleaned dataset\n",
    "print(\"\\n Cleaned Dataset: \\n\", diabetes_data_cleaned.tail())\n",
    "\n",
    "\n"
   ]
  },
  {
   "cell_type": "markdown",
   "id": "8bf83c7324cee6c4",
   "metadata": {},
   "source": [
    "As we can see from the output of the cell above, there are now NaN values in the cleaned dataset where there were 0 values in the original dataset. This is the desired outcome of the Data Preprocessing step.\n"
   ]
  },
  {
   "cell_type": "code",
   "execution_count": 8,
   "id": "21bb5e0112545a80",
   "metadata": {
    "ExecuteTime": {
     "end_time": "2024-12-12T15:53:24.891208Z",
     "start_time": "2024-12-12T15:53:24.883736Z"
    }
   },
   "outputs": [
    {
     "name": "stdout",
     "output_type": "stream",
     "text": [
      "\n",
      " Examples of Rows with 0 values in the Glucose column in the cleaned dataset: \n",
      " Empty DataFrame\n",
      "Columns: [Id, Pregnancies, Glucose, BloodPressure, SkinThickness, Insulin, BMI, DiabetesPedigreeFunction, Age, Outcome]\n",
      "Index: []\n"
     ]
    }
   ],
   "source": [
    "#Attempt to display rows with 0 values in the glucose column of the cleaned dataset to validate the cleaning (Expected output is an empty DataFrame)\n",
    "print(f\"\\n Examples of Rows with 0 values in the Glucose column in the cleaned dataset: \\n\", diabetes_data_cleaned.loc[diabetes_data_cleaned['Glucose'] == 0].head())"
   ]
  },
  {
   "cell_type": "markdown",
   "id": "2ccfe617f070f817",
   "metadata": {},
   "source": [
    "## Data Preprocessing Continued "
   ]
  },
  {
   "cell_type": "code",
   "execution_count": 9,
   "id": "b38960488bdf288c",
   "metadata": {
    "ExecuteTime": {
     "end_time": "2024-12-12T15:53:24.966400Z",
     "start_time": "2024-12-12T15:53:24.937065Z"
    }
   },
   "outputs": [
    {
     "name": "stdout",
     "output_type": "stream",
     "text": [
      "\n",
      " Proportion of missing values in the cleaned dataset: \n",
      " Id                           0.000000\n",
      "Pregnancies                  0.000000\n",
      "Glucose                      0.650289\n",
      "BloodPressure                4.515896\n",
      "SkinThickness               28.901734\n",
      "Insulin                     48.049133\n",
      "BMI                          1.408960\n",
      "DiabetesPedigreeFunction     0.000000\n",
      "Age                          0.000000\n",
      "Outcome                      0.000000\n",
      "dtype: float64\n"
     ]
    }
   ],
   "source": [
    "# Display the proportion of missing values in the cleaned dataset as a percentage\n",
    "print(f\"\\n Proportion of missing values in the cleaned dataset: \\n\", diabetes_data_cleaned.isnull().mean() * 100)\n",
    "# save cleaned dataset to csv to work on \n",
    "diabetes_data_cleaned.to_csv(\"Datasets/Diabetes-Dataset-Cleaned.csv\", index=False)\n",
    "\n"
   ]
  },
  {
   "cell_type": "markdown",
   "id": "75f6aa5631a36089",
   "metadata": {},
   "source": [
    "As we can see from the output above, the proportion of missing values in the dataset is quite high, especially in the Skin Thickness and Insulin columns. "
   ]
  },
  {
   "cell_type": "markdown",
   "id": "3f72e809f094685",
   "metadata": {},
   "source": [
    "## Handling Missing Values\n",
    "Below we will now handle the missing values from above \n",
    "\n"
   ]
  },
  {
   "cell_type": "markdown",
   "id": "15ac04d807b161fe",
   "metadata": {},
   "source": [
    "### Handling Insulin Missing Values\n",
    "Due to the large percentage of missing values in his column, any values imputed will not accurately represent the dataset correctly. Due to this, we should drop the column from the dataset."
   ]
  },
  {
   "cell_type": "code",
   "execution_count": 10,
   "id": "e319792c6c7cc23f",
   "metadata": {
    "ExecuteTime": {
     "end_time": "2024-12-12T15:53:25.028483Z",
     "start_time": "2024-12-12T15:53:25.020458Z"
    }
   },
   "outputs": [
    {
     "name": "stdout",
     "output_type": "stream",
     "text": [
      "\n",
      " Number of missing values in the Insulin column before imputation/Deletion: \n",
      " 1330\n"
     ]
    }
   ],
   "source": [
    "#handle missing Insulin values \n",
    "# Display the number of missing values in the Insulin column\n",
    "print(f\"\\n Number of missing values in the Insulin column before imputation/Deletion: \\n\", diabetes_data_cleaned['Insulin'].isnull().sum())\n",
    "\n",
    "# Drop the Insulin column from the dataset\n",
    "diabetes_data_cleaned.drop(columns=['Insulin'], inplace=True)\n",
    "\n",
    "\n",
    "\n"
   ]
  },
  {
   "cell_type": "markdown",
   "id": "c44fe31c6ee48da5",
   "metadata": {},
   "source": [
    "### Handling Skin Thickness Missing Values\n",
    "Due to the large percentage of missing values in the Skin Thickness column, any values imputed will not accurately represent the dataset correctly. Due to this, we should drop the column from the dataset."
   ]
  },
  {
   "cell_type": "code",
   "execution_count": 11,
   "id": "e16b8271b12a71db",
   "metadata": {
    "ExecuteTime": {
     "end_time": "2024-12-12T15:53:25.104451Z",
     "start_time": "2024-12-12T15:53:25.097007Z"
    }
   },
   "outputs": [
    {
     "name": "stdout",
     "output_type": "stream",
     "text": [
      "\n",
      " Number of missing values in the Skin Thickness column before imputation/Deletion: \n",
      " 800\n"
     ]
    }
   ],
   "source": [
    "#handle missing Skin Thickness values\n",
    "# Display the number of missing values in the Skin Thickness column\n",
    "print(f\"\\n Number of missing values in the Skin Thickness column before imputation/Deletion: \\n\", diabetes_data_cleaned['SkinThickness'].isnull().sum())\n",
    "\n",
    "# Drop the Skin Thickness column from the dataset\n",
    "diabetes_data_cleaned.drop(columns=['SkinThickness'], inplace=True)\n"
   ]
  },
  {
   "cell_type": "markdown",
   "id": "808be57e95923a2c",
   "metadata": {},
   "source": [
    "### Handling BMI Missing Values\n"
   ]
  },
  {
   "cell_type": "code",
   "execution_count": 12,
   "id": "1849f19403d49781",
   "metadata": {
    "ExecuteTime": {
     "end_time": "2024-12-12T15:53:25.193403Z",
     "start_time": "2024-12-12T15:53:25.180457Z"
    }
   },
   "outputs": [
    {
     "name": "stdout",
     "output_type": "stream",
     "text": [
      "\n",
      " Example rows of missing BMI values: \n",
      "       Id  Pregnancies  Glucose  BloodPressure  BMI  DiabetesPedigreeFunction  \\\n",
      "9     10            8    125.0           96.0  NaN                     0.232   \n",
      "49    50            7    105.0            NaN  NaN                     0.305   \n",
      "60    61            2     84.0            NaN  NaN                     0.304   \n",
      "81    82            2     74.0            NaN  NaN                     0.102   \n",
      "145  146            0    102.0           75.0  NaN                     0.572   \n",
      "\n",
      "     Age  Outcome  \n",
      "9     54        1  \n",
      "49    24        0  \n",
      "60    21        0  \n",
      "81    22        0  \n",
      "145   21        0  \n",
      "\n",
      " Number of missing values in the BMI column before imputation: \n",
      " 39\n",
      "\n",
      " Number of missing values in the BMI column after imputation: \n",
      " 0\n",
      "\n",
      " Some values in the BMI column after imputation: \n",
      " 32.59666544521803\n",
      "\n",
      " Some values in the BMI column after imputation: \n",
      " 32.59666544521803\n"
     ]
    }
   ],
   "source": [
    "# print example rows of missing BMI values\n",
    "print(f\"\\n Example rows of missing BMI values: \\n\", diabetes_data_cleaned.loc[diabetes_data_cleaned['BMI'].isnull()].head())\n",
    "\n",
    "# Display the number of missing values in the BMI column\n",
    "print(f\"\\n Number of missing values in the BMI column before imputation: \\n\", diabetes_data_cleaned['BMI'].isnull().sum())\n",
    "\n",
    "# impute the missing values in the BMI column with the mean(average) value\n",
    "imputer = SimpleImputer(strategy='mean')\n",
    "diabetes_data_cleaned['BMI'] = imputer.fit_transform(diabetes_data_cleaned[['BMI']])\n",
    "# Display the number of missing values in the BMI column after imputation\n",
    "print(f\"\\n Number of missing values in the BMI column after imputation: \\n\", diabetes_data_cleaned['BMI'].isnull().sum())\n",
    "#  print some values to validate the imputation\n",
    "print(f\"\\n Some values in the BMI column after imputation: \\n\", diabetes_data_cleaned.loc[diabetes_data_cleaned['Id']== 10, 'BMI'].values[0])\n",
    "print(f\"\\n Some values in the BMI column after imputation: \\n\", diabetes_data_cleaned.loc[diabetes_data_cleaned['Id']== 50, 'BMI'].values[0])\n",
    "# if are the same, imputing has worked\n"
   ]
  },
  {
   "cell_type": "markdown",
   "id": "8acda39df2e17624",
   "metadata": {},
   "source": [
    "### Handling Blood Pressure Missing Values"
   ]
  },
  {
   "cell_type": "code",
   "execution_count": 13,
   "id": "dffffca1d9dd90c0",
   "metadata": {
    "ExecuteTime": {
     "end_time": "2024-12-12T15:53:25.255863Z",
     "start_time": "2024-12-12T15:53:25.240325Z"
    }
   },
   "outputs": [
    {
     "name": "stdout",
     "output_type": "stream",
     "text": [
      "\n",
      " Example rows of missing Blood Pressure values: \n",
      "     Id  Pregnancies  Glucose  BloodPressure        BMI  \\\n",
      "7    8           10    115.0            NaN  35.300000   \n",
      "15  16            7    100.0            NaN  30.000000   \n",
      "49  50            7    105.0            NaN  32.596665   \n",
      "60  61            2     84.0            NaN  32.596665   \n",
      "78  79            0    131.0            NaN  43.200000   \n",
      "\n",
      "    DiabetesPedigreeFunction  Age  Outcome  \n",
      "7                      0.134   29        0  \n",
      "15                     0.484   32        1  \n",
      "49                     0.305   24        0  \n",
      "60                     0.304   21        0  \n",
      "78                     0.270   26        1  \n",
      "\n",
      " Number of missing values in the Blood Pressure column before imputation: \n",
      " 125\n",
      "\n",
      " Number of missing values in the Blood Pressure column after imputation: \n",
      " 0\n"
     ]
    }
   ],
   "source": [
    "# print example rows of missing Blood Pressure values\n",
    "print(f\"\\n Example rows of missing Blood Pressure values: \\n\", diabetes_data_cleaned.loc[diabetes_data_cleaned['BloodPressure'].isnull()].head())\n",
    "# take note of the id of the rows with missing values, can be used later to validate to ensure missing data handling has worked\n",
    "\n",
    "# Display the number of missing values in the Blood Pressure column\n",
    "print(f\"\\n Number of missing values in the Blood Pressure column before imputation: \\n\", diabetes_data_cleaned['BloodPressure'].isnull().sum())\n",
    "\n",
    "# impute the missing values in the Blood Pressure column with the mean(average) value\n",
    "imputer = SimpleImputer(strategy='mean')\n",
    "diabetes_data_cleaned['BloodPressure'] = imputer.fit_transform(diabetes_data_cleaned[['BloodPressure']])\n",
    "\n",
    "# Display the number of missing values in the Blood Pressure column after imputation\n",
    "print(f\"\\n Number of missing values in the Blood Pressure column after imputation: \\n\", diabetes_data_cleaned['BloodPressure'].isnull().sum())\n",
    "\n"
   ]
  },
  {
   "cell_type": "markdown",
   "id": "d05d495a",
   "metadata": {},
   "source": [
    "## Handle Glucose Missing Values"
   ]
  },
  {
   "cell_type": "code",
   "execution_count": 14,
   "id": "2c193b890c83e4c0",
   "metadata": {
    "ExecuteTime": {
     "end_time": "2024-12-12T15:53:25.318734Z",
     "start_time": "2024-12-12T15:53:25.304264Z"
    }
   },
   "outputs": [
    {
     "name": "stdout",
     "output_type": "stream",
     "text": [
      "\n",
      " Example rows of missing Glucose values: \n",
      "       Id  Pregnancies  Glucose  BloodPressure   BMI  DiabetesPedigreeFunction  \\\n",
      "75    76            1      NaN           48.0  24.7                     0.140   \n",
      "182  183            1      NaN           74.0  27.7                     0.299   \n",
      "342  343            1      NaN           68.0  32.0                     0.389   \n",
      "349  350            5      NaN           80.0  41.0                     0.346   \n",
      "502  503            6      NaN           68.0  39.0                     0.727   \n",
      "\n",
      "     Age  Outcome  \n",
      "75    22        0  \n",
      "182   21        0  \n",
      "342   22        0  \n",
      "349   37        1  \n",
      "502   41        1  \n",
      "\n",
      " Number of missing values in the Glucose column before imputation: \n",
      " 18\n",
      "\n",
      " Number of missing values in the Glucose column after imputation: \n",
      " 0\n"
     ]
    }
   ],
   "source": [
    "# finally, handle missing values in glucose column\n",
    "# print example rows of missing Glucose values\n",
    "print(f\"\\n Example rows of missing Glucose values: \\n\", diabetes_data_cleaned.loc[diabetes_data_cleaned['Glucose'].isnull()].head())\n",
    "# take note of the id of the rows with missing values, can be used later to validate to ensure missing data handling has worked\n",
    "\n",
    "# Display the number of missing values in the Glucose column\n",
    "print(f\"\\n Number of missing values in the Glucose column before imputation: \\n\", diabetes_data_cleaned['Glucose'].isnull().sum())\n",
    "\n",
    "# impute the missing values in the Glucose column with the mean(average) value\n",
    "imputer = SimpleImputer(strategy='mean')\n",
    "diabetes_data_cleaned['Glucose'] = imputer.fit_transform(diabetes_data_cleaned[['Glucose']])\n",
    "# Display the number of missing values in the Glucose column after imputation\n",
    "print(f\"\\n Number of missing values in the Glucose column after imputation: \\n\", diabetes_data_cleaned['Glucose'].isnull().sum())\n",
    "\n"
   ]
  },
  {
   "cell_type": "markdown",
   "id": "47eeede7",
   "metadata": {},
   "source": [
    "## Handle ID Data Cleaning"
   ]
  },
  {
   "cell_type": "code",
   "execution_count": 15,
   "id": "c49a1da2",
   "metadata": {},
   "outputs": [],
   "source": [
    "# Drop 'Id' column from the DataFrame - not needed for analysis\n",
    "diabetes_data_cleaned = diabetes_data_cleaned.drop(columns=['Id'])\n"
   ]
  },
  {
   "cell_type": "code",
   "execution_count": 16,
   "id": "50a2c2e573a3cf4a",
   "metadata": {
    "ExecuteTime": {
     "end_time": "2024-12-12T15:53:25.509530Z",
     "start_time": "2024-12-12T15:53:25.486305Z"
    }
   },
   "outputs": [
    {
     "name": "stdout",
     "output_type": "stream",
     "text": [
      "\n",
      " Proportion of missing values in the cleaned dataset: \n",
      " Pregnancies                 0.0\n",
      "Glucose                     0.0\n",
      "BloodPressure               0.0\n",
      "BMI                         0.0\n",
      "DiabetesPedigreeFunction    0.0\n",
      "Age                         0.0\n",
      "Outcome                     0.0\n",
      "dtype: float64\n",
      "\n",
      " Number of missing values in the cleaned dataset: \n",
      " Pregnancies                 0\n",
      "Glucose                     0\n",
      "BloodPressure               0\n",
      "BMI                         0\n",
      "DiabetesPedigreeFunction    0\n",
      "Age                         0\n",
      "Outcome                     0\n",
      "dtype: int64\n"
     ]
    }
   ],
   "source": [
    "# print percentage of missing values in the cleaned dataset\n",
    "\n",
    "print(f\"\\n Proportion of missing values in the cleaned dataset: \\n\", diabetes_data_cleaned.isnull().mean() * 100)\n",
    "# if all is 0, then all missing values have been handled correctly\n",
    "\n",
    "#print number of missing values in the cleaned dataset\n",
    "print(f\"\\n Number of missing values in the cleaned dataset: \\n\", diabetes_data_cleaned.isnull().sum())\n",
    "\n",
    "# Finally, save the cleaned dataset to a csv file\n",
    "diabetes_data_cleaned.to_csv(\"Datasets/Diabetes-Dataset-Cleaned-2.csv\", index=False)"
   ]
  },
  {
   "cell_type": "markdown",
   "id": "d68d9603c90c6d84",
   "metadata": {},
   "source": []
  },
  {
   "cell_type": "markdown",
   "id": "35934889",
   "metadata": {},
   "source": [
    "### Skewness and Kurtosis "
   ]
  },
  {
   "cell_type": "code",
   "execution_count": 17,
   "id": "c0d1d55e",
   "metadata": {},
   "outputs": [
    {
     "name": "stdout",
     "output_type": "stream",
     "text": [
      "\n",
      " Skewness of the dataset: \n",
      " Pregnancies                 0.959096\n",
      "Glucose                     0.518154\n",
      "BloodPressure               0.192850\n",
      "BMI                         0.852292\n",
      "DiabetesPedigreeFunction    1.842791\n",
      "Age                         1.166299\n",
      "Outcome                     0.657465\n",
      "dtype: float64\n",
      "\n",
      " Kurtosis of the dataset: \n",
      " Pregnancies                 0.333585\n",
      "Glucose                    -0.321336\n",
      "BloodPressure               1.084821\n",
      "BMI                         2.406312\n",
      "DiabetesPedigreeFunction    5.172935\n",
      "Age                         0.771859\n",
      "Outcome                    -1.568874\n",
      "dtype: float64\n",
      "\n",
      " Columns with high skewness: \n",
      " Index(['DiabetesPedigreeFunction', 'Age'], dtype='object')\n",
      "\n",
      " Columns with high kurtosis: \n",
      " Index(['DiabetesPedigreeFunction'], dtype='object')\n"
     ]
    }
   ],
   "source": [
    "# get skewness of the dataset\n",
    "print(f\"\\n Skewness of the dataset: \\n\", diabetes_data_cleaned.skew())\n",
    "\n",
    "# get kurtosis of the dataset\n",
    "print(f\"\\n Kurtosis of the dataset: \\n\", diabetes_data_cleaned.kurtosis())\n",
    "\n",
    "# handle skewness\n",
    "# get columns with skewness greater than 1 (high skewness)\n",
    "skewness = diabetes_data_cleaned.skew()\n",
    "high_skewness = skewness[skewness > 1].index\n",
    "print(f\"\\n Columns with high skewness: \\n\", high_skewness)\n",
    "\n",
    "# handle kurtosis\n",
    "# get columns with kurtosis greater than 3 (high kurtosis)\n",
    "kurtosis = diabetes_data_cleaned.kurtosis()\n",
    "high_kurtosis = kurtosis[kurtosis > 3].index\n",
    "print(f\"\\n Columns with high kurtosis: \\n\", high_kurtosis)\n",
    "\n",
    "\n",
    "\n",
    "\n",
    "\n",
    "\n"
   ]
  },
  {
   "cell_type": "markdown",
   "id": "52a1d319",
   "metadata": {},
   "source": [
    "From the Skewness, we can see that 2 Columns, DiabetesPedigreeFunction and Age have high skewness.   \n",
    "From the Kurtosis, we can see that 2 columns, DiabetesPedigreeFunction and BMI have high kurtosis.(While above 3 is usually considered higher, BMI(2.4) seems high enough where it seems worth it to add into this category)"
   ]
  }
 ],
 "metadata": {
  "kernelspec": {
   "display_name": ".venv",
   "language": "python",
   "name": "python3"
  },
  "language_info": {
   "codemirror_mode": {
    "name": "ipython",
    "version": 3
   },
   "file_extension": ".py",
   "mimetype": "text/x-python",
   "name": "python",
   "nbconvert_exporter": "python",
   "pygments_lexer": "ipython3",
   "version": "3.12.1"
  }
 },
 "nbformat": 4,
 "nbformat_minor": 5
}
