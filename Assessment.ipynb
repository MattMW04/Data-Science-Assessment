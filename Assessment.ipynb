{
 "cells": [
  {
   "metadata": {},
   "cell_type": "markdown",
   "source": "# Data Science Assessment",
   "id": "c9dd8dbe76202054"
  },
  {
   "metadata": {},
   "cell_type": "markdown",
   "source": "",
   "id": "5c4de50955caeb9a"
  },
  {
   "metadata": {
    "ExecuteTime": {
     "end_time": "2024-12-05T16:32:53.066047Z",
     "start_time": "2024-12-05T16:32:53.063547Z"
    }
   },
   "cell_type": "code",
   "source": [
    "#Cell to import necessary Libraries\n",
    "import pandas as pd\n",
    "import numpy as np\n",
    "from sklearn.impute import SimpleImputer"
   ],
   "id": "1b07eb5b0b704d73",
   "outputs": [],
   "execution_count": 213
  },
  {
   "metadata": {},
   "cell_type": "markdown",
   "source": [
    "## Data Exploration\n",
    "In this section, we will load the dataset into a Pandas DataFrame and perform some initial data exploration to understand the dataset better. We will check the shape of the dataset, data types of columns, display the first 5 rows of the dataset, display the last 5 rows of the dataset, display 20 random rows of the dataset, and check for null/NAN values in the dataset. This will help us get the first idea of what the Data is and what data will need to be Cleaned.\n"
   ],
   "id": "9b86b270a3a4a91e"
  },
  {
   "metadata": {
    "ExecuteTime": {
     "end_time": "2024-12-05T16:32:53.097597Z",
     "start_time": "2024-12-05T16:32:53.075075Z"
    }
   },
   "cell_type": "code",
   "source": [
    "# Define Path to Dataset\n",
    "path = \"Datasets/Diabetes Dataset.csv\"\n",
    "\n",
    "# Load dataset into Pandas DataFrame\n",
    "df = pd.read_csv(path)\n",
    "\n",
    "# Display the shape of the dataset\n",
    "print(f\"Shape of the dataset: {df.shape}\")\n",
    "\n",
    "#Display data types of columns in the Dataset\n",
    "print(f\"Data types of columns in the dataset: {df.dtypes}\")\n",
    "\n",
    "# Display the first 5 rows of the dataset\n",
    "print(df.head())\n",
    "\n",
    "# display last 5 rows of the dataset\n",
    "print(df.tail())\n",
    "\n",
    "# display 20 rows of data \n",
    "print(df.sample(20))\n",
    "\n",
    "# Display null/NAN values in the dataset\n",
    "print(f\"\\n Null/NAN values:\", df.isnull().sum())\n",
    "\n",
    "#Display rows with 0 values in the Glucose a column\n",
    "print(f\"\\n Rows with 0 values in the Glucose column: \\n\", df.loc[df['Glucose'] == 0].head())\n",
    "\n",
    "# Display the summary statistics of the dataset\n",
    "print(f\"\\n Summary Statistics of the dataset: \\n\", df.describe())\n",
    "\n",
    "\n"
   ],
   "id": "93152008841a4f36",
   "outputs": [
    {
     "name": "stdout",
     "output_type": "stream",
     "text": [
      "Shape of the dataset: (2768, 10)\n",
      "Data types of columns in the dataset: Id                            int64\n",
      "Pregnancies                   int64\n",
      "Glucose                       int64\n",
      "BloodPressure                 int64\n",
      "SkinThickness                 int64\n",
      "Insulin                       int64\n",
      "BMI                         float64\n",
      "DiabetesPedigreeFunction    float64\n",
      "Age                           int64\n",
      "Outcome                       int64\n",
      "dtype: object\n",
      "   Id  Pregnancies  Glucose  BloodPressure  SkinThickness  Insulin   BMI  \\\n",
      "0   1            6      148             72             35        0  33.6   \n",
      "1   2            1       85             66             29        0  26.6   \n",
      "2   3            8      183             64              0        0  23.3   \n",
      "3   4            1       89             66             23       94  28.1   \n",
      "4   5            0      137             40             35      168  43.1   \n",
      "\n",
      "   DiabetesPedigreeFunction  Age  Outcome  \n",
      "0                     0.627   50        1  \n",
      "1                     0.351   31        0  \n",
      "2                     0.672   32        1  \n",
      "3                     0.167   21        0  \n",
      "4                     2.288   33        1  \n",
      "        Id  Pregnancies  Glucose  BloodPressure  SkinThickness  Insulin   BMI  \\\n",
      "2763  2764            2       75             64             24       55  29.7   \n",
      "2764  2765            8      179             72             42      130  32.7   \n",
      "2765  2766            6       85             78              0        0  31.2   \n",
      "2766  2767            0      129            110             46      130  67.1   \n",
      "2767  2768            2       81             72             15       76  30.1   \n",
      "\n",
      "      DiabetesPedigreeFunction  Age  Outcome  \n",
      "2763                     0.370   33        0  \n",
      "2764                     0.719   36        1  \n",
      "2765                     0.382   42        0  \n",
      "2766                     0.319   26        1  \n",
      "2767                     0.547   25        0  \n",
      "        Id  Pregnancies  Glucose  BloodPressure  SkinThickness  Insulin   BMI  \\\n",
      "1897  1898           10       68            106             23       49  35.5   \n",
      "2214  2215            4       96             56             17       49  20.8   \n",
      "2350  2351            0      136             74             49      220  20.1   \n",
      "219    220            5      112             66              0        0  37.8   \n",
      "2324  2325            2       81             72             15       76  30.1   \n",
      "2166  2167            1       91             64             24        0  29.2   \n",
      "534    535            1       77             56             30       56  33.3   \n",
      "2728  2729            5      105             72             29      325  36.9   \n",
      "1561  1562           13      152             90             33       29  26.8   \n",
      "1956  1957            8      120             86              0        0  28.4   \n",
      "1532  1533            2      122             70             27        0  36.8   \n",
      "1917  1918            2      121             70             32       95  39.1   \n",
      "1211  1212            8      108             70              0        0  30.5   \n",
      "2201  2202            2      100             70             52       57  40.5   \n",
      "25      26           10      125             70             26      115  31.1   \n",
      "1059  1060            0      107             62             30       74  36.6   \n",
      "933    934            6      104             74             18      156  29.9   \n",
      "1967  1968            1      109             58             18      116  28.5   \n",
      "321    322            3      112             74             30        0  31.6   \n",
      "1393  1394            4       90             88             47       54  37.7   \n",
      "\n",
      "      DiabetesPedigreeFunction  Age  Outcome  \n",
      "1897                     0.285   47        0  \n",
      "2214                     0.340   26        0  \n",
      "2350                     0.820   44        1  \n",
      "219                      0.261   41        1  \n",
      "2324                     0.547   25        0  \n",
      "2166                     0.192   21        0  \n",
      "534                      1.251   24        0  \n",
      "2728                     0.159   28        0  \n",
      "1561                     0.731   43        1  \n",
      "1956                     0.259   22        1  \n",
      "1532                     0.340   27        0  \n",
      "1917                     0.886   23        0  \n",
      "1211                     0.955   33        1  \n",
      "2201                     0.677   25        0  \n",
      "25                       0.205   41        1  \n",
      "1059                     0.757   25        1  \n",
      "933                      0.722   41        1  \n",
      "1967                     0.219   22        0  \n",
      "321                      0.197   25        1  \n",
      "1393                     0.362   29        0  \n",
      "\n",
      " Null/NAN values: Id                          0\n",
      "Pregnancies                 0\n",
      "Glucose                     0\n",
      "BloodPressure               0\n",
      "SkinThickness               0\n",
      "Insulin                     0\n",
      "BMI                         0\n",
      "DiabetesPedigreeFunction    0\n",
      "Age                         0\n",
      "Outcome                     0\n",
      "dtype: int64\n",
      "\n",
      " Rows with 0 values in the Glucose column: \n",
      "       Id  Pregnancies  Glucose  BloodPressure  SkinThickness  Insulin   BMI  \\\n",
      "75    76            1        0             48             20        0  24.7   \n",
      "182  183            1        0             74             20       23  27.7   \n",
      "342  343            1        0             68             35        0  32.0   \n",
      "349  350            5        0             80             32        0  41.0   \n",
      "502  503            6        0             68             41        0  39.0   \n",
      "\n",
      "     DiabetesPedigreeFunction  Age  Outcome  \n",
      "75                      0.140   22        0  \n",
      "182                     0.299   21        0  \n",
      "342                     0.389   22        0  \n",
      "349                     0.346   37        1  \n",
      "502                     0.727   41        1  \n",
      "\n",
      " Summary Statistics of the dataset: \n",
      "                 Id  Pregnancies      Glucose  BloodPressure  SkinThickness  \\\n",
      "count  2768.000000  2768.000000  2768.000000    2768.000000    2768.000000   \n",
      "mean   1384.500000     3.742775   121.102601      69.134393      20.824422   \n",
      "std     799.197097     3.323801    32.036508      19.231438      16.059596   \n",
      "min       1.000000     0.000000     0.000000       0.000000       0.000000   \n",
      "25%     692.750000     1.000000    99.000000      62.000000       0.000000   \n",
      "50%    1384.500000     3.000000   117.000000      72.000000      23.000000   \n",
      "75%    2076.250000     6.000000   141.000000      80.000000      32.000000   \n",
      "max    2768.000000    17.000000   199.000000     122.000000     110.000000   \n",
      "\n",
      "           Insulin          BMI  DiabetesPedigreeFunction          Age  \\\n",
      "count  2768.000000  2768.000000               2768.000000  2768.000000   \n",
      "mean     80.127890    32.137392                  0.471193    33.132225   \n",
      "std     112.301933     8.076127                  0.325669    11.777230   \n",
      "min       0.000000     0.000000                  0.078000    21.000000   \n",
      "25%       0.000000    27.300000                  0.244000    24.000000   \n",
      "50%      37.000000    32.200000                  0.375000    29.000000   \n",
      "75%     130.000000    36.625000                  0.624000    40.000000   \n",
      "max     846.000000    80.600000                  2.420000    81.000000   \n",
      "\n",
      "           Outcome  \n",
      "count  2768.000000  \n",
      "mean      0.343931  \n",
      "std       0.475104  \n",
      "min       0.000000  \n",
      "25%       0.000000  \n",
      "50%       0.000000  \n",
      "75%       1.000000  \n",
      "max       1.000000  \n"
     ]
    }
   ],
   "execution_count": 214
  },
  {
   "metadata": {},
   "cell_type": "markdown",
   "source": [
    "## Continued Data Exploration\n",
    "From our initial Exploration, we can see that there are no NAN/ Null values in the dataset. However, some columns have 0 in which should not be possible. We will explore which ones these are in a below cell"
   ],
   "id": "7a7cf314cd4f05ee"
  },
  {
   "metadata": {
    "ExecuteTime": {
     "end_time": "2024-12-05T16:32:53.118283Z",
     "start_time": "2024-12-05T16:32:53.106828Z"
    }
   },
   "cell_type": "code",
   "source": [
    "#Display rows with 0 Value in the Glucose  column\n",
    "print(f\"\\n Examples of Rows with 0 values in the Glucose column: \\n\", df.loc[df['Glucose'] == 0].head())\n",
    "#Display rows with 0 Value in the BloodPressure  column\n",
    "print(f\"\\n Examples of Rows with 0 values in the BloodPressure column: \\n\", df.loc[df['BloodPressure'] == 0].head())\n",
    "#Display rows with 0 Value in the SkinThickness  column\n",
    "print(f\"\\n Examples of Rows with 0 values in the SkinThickness column: \\n\", df.loc[df['SkinThickness'] == 0].head())\n",
    "#Display rows with 0 Value in the Insulin  column\n",
    "print(f\"\\n Examples of Rows with 0 values in the Insulin column: \\n\", df.loc[df['Insulin'] == 0].head())\n",
    "#Display rows with 0 Value in the BMI  column\n",
    "print(f\"\\n Examples Rows with 0 values in the BMI column: \\n\", df.loc[df['BMI'] == 0].head())\n",
    "\n"
   ],
   "id": "1141f4d7527dc21f",
   "outputs": [
    {
     "name": "stdout",
     "output_type": "stream",
     "text": [
      "\n",
      " Examples of Rows with 0 values in the Glucose column: \n",
      "       Id  Pregnancies  Glucose  BloodPressure  SkinThickness  Insulin   BMI  \\\n",
      "75    76            1        0             48             20        0  24.7   \n",
      "182  183            1        0             74             20       23  27.7   \n",
      "342  343            1        0             68             35        0  32.0   \n",
      "349  350            5        0             80             32        0  41.0   \n",
      "502  503            6        0             68             41        0  39.0   \n",
      "\n",
      "     DiabetesPedigreeFunction  Age  Outcome  \n",
      "75                      0.140   22        0  \n",
      "182                     0.299   21        0  \n",
      "342                     0.389   22        0  \n",
      "349                     0.346   37        1  \n",
      "502                     0.727   41        1  \n",
      "\n",
      " Examples of Rows with 0 values in the BloodPressure column: \n",
      "     Id  Pregnancies  Glucose  BloodPressure  SkinThickness  Insulin   BMI  \\\n",
      "7    8           10      115              0              0        0  35.3   \n",
      "15  16            7      100              0              0        0  30.0   \n",
      "49  50            7      105              0              0        0   0.0   \n",
      "60  61            2       84              0              0        0   0.0   \n",
      "78  79            0      131              0              0        0  43.2   \n",
      "\n",
      "    DiabetesPedigreeFunction  Age  Outcome  \n",
      "7                      0.134   29        0  \n",
      "15                     0.484   32        1  \n",
      "49                     0.305   24        0  \n",
      "60                     0.304   21        0  \n",
      "78                     0.270   26        1  \n",
      "\n",
      " Examples of Rows with 0 values in the SkinThickness column: \n",
      "     Id  Pregnancies  Glucose  BloodPressure  SkinThickness  Insulin   BMI  \\\n",
      "2    3            8      183             64              0        0  23.3   \n",
      "5    6            5      116             74              0        0  25.6   \n",
      "7    8           10      115              0              0        0  35.3   \n",
      "9   10            8      125             96              0        0   0.0   \n",
      "10  11            4      110             92              0        0  37.6   \n",
      "\n",
      "    DiabetesPedigreeFunction  Age  Outcome  \n",
      "2                      0.672   32        1  \n",
      "5                      0.201   30        0  \n",
      "7                      0.134   29        0  \n",
      "9                      0.232   54        1  \n",
      "10                     0.191   30        0  \n",
      "\n",
      " Examples of Rows with 0 values in the Insulin column: \n",
      "    Id  Pregnancies  Glucose  BloodPressure  SkinThickness  Insulin   BMI  \\\n",
      "0   1            6      148             72             35        0  33.6   \n",
      "1   2            1       85             66             29        0  26.6   \n",
      "2   3            8      183             64              0        0  23.3   \n",
      "5   6            5      116             74              0        0  25.6   \n",
      "7   8           10      115              0              0        0  35.3   \n",
      "\n",
      "   DiabetesPedigreeFunction  Age  Outcome  \n",
      "0                     0.627   50        1  \n",
      "1                     0.351   31        0  \n",
      "2                     0.672   32        1  \n",
      "5                     0.201   30        0  \n",
      "7                     0.134   29        0  \n",
      "\n",
      " Examples Rows with 0 values in the BMI column: \n",
      "       Id  Pregnancies  Glucose  BloodPressure  SkinThickness  Insulin  BMI  \\\n",
      "9     10            8      125             96              0        0  0.0   \n",
      "49    50            7      105              0              0        0  0.0   \n",
      "60    61            2       84              0              0        0  0.0   \n",
      "81    82            2       74              0              0        0  0.0   \n",
      "145  146            0      102             75             23        0  0.0   \n",
      "\n",
      "     DiabetesPedigreeFunction  Age  Outcome  \n",
      "9                       0.232   54        1  \n",
      "49                      0.305   24        0  \n",
      "60                      0.304   21        0  \n",
      "81                      0.102   22        0  \n",
      "145                     0.572   21        0  \n"
     ]
    }
   ],
   "execution_count": 215
  },
  {
   "metadata": {},
   "cell_type": "markdown",
   "source": [
    "## Data Preprocessing\n",
    "From the first look at the Dataset, we can see that some of the Columns : Skin Thickness, Insulin, BMI, Blood Pressure, and Glucose have zero values which are not possible. We will replace these zero values with NaN values and then check the proportion of missing values in the dataset, which will help us to decide on the best way to handle the missing values. This way, we can make the Data more useful for purpose of Data analytics and any predictive models"
   ],
   "id": "bb0e204e61154e3f"
  },
  {
   "metadata": {
    "ExecuteTime": {
     "end_time": "2024-12-05T16:32:53.131220Z",
     "start_time": "2024-12-05T16:32:53.127013Z"
    }
   },
   "cell_type": "code",
   "source": [
    "\n",
    "# Define column names of relevant columns \n",
    "columns_to_clean = ['Glucose', 'BloodPressure', 'SkinThickness', 'Insulin', 'BMI']\n",
    "# Duplicate DataFrame to be worked on (can be used to validate this step to check values have changed)\n",
    "diabetes_data_cleaned = df.copy()\n",
    "# Replace 0 with NAN value using numpy\n",
    "diabetes_data_cleaned[columns_to_clean] = diabetes_data_cleaned[columns_to_clean].replace(0, np.nan)"
   ],
   "id": "3cc089f80e4d9160",
   "outputs": [],
   "execution_count": 216
  },
  {
   "metadata": {},
   "cell_type": "markdown",
   "source": [
    "## Data PreProcessing Validation \n",
    "This section will be used to compare the original DataFrame to the Modified dataframe from above (Note: This is just to validate that the above preprocessing worked as intended)\n"
   ],
   "id": "c84dccd3dcd413f"
  },
  {
   "metadata": {
    "ExecuteTime": {
     "end_time": "2024-12-05T16:32:53.152064Z",
     "start_time": "2024-12-05T16:32:53.142210Z"
    }
   },
   "cell_type": "code",
   "source": [
    "# Display the first 5 rows of the original dataset\n",
    "print(\"\\n Original Dataset: \\n\", df.head())\n",
    "# Display the first 5 rows of the cleaned dataset\n",
    "print(\"\\n Cleaned Dataset: \\n\", diabetes_data_cleaned.head())\n",
    "\n",
    "# Display the last 5 rows of the original dataset\n",
    "print(\"\\n Original Dataset: \\n\", df.tail())\n",
    "# Display the last 5 rows of the cleaned dataset\n",
    "print(\"\\n Cleaned Dataset: \\n\", diabetes_data_cleaned.tail())\n",
    "\n",
    "\n"
   ],
   "id": "bf721ef5e05fb5a",
   "outputs": [
    {
     "name": "stdout",
     "output_type": "stream",
     "text": [
      "\n",
      " Original Dataset: \n",
      "    Id  Pregnancies  Glucose  BloodPressure  SkinThickness  Insulin   BMI  \\\n",
      "0   1            6      148             72             35        0  33.6   \n",
      "1   2            1       85             66             29        0  26.6   \n",
      "2   3            8      183             64              0        0  23.3   \n",
      "3   4            1       89             66             23       94  28.1   \n",
      "4   5            0      137             40             35      168  43.1   \n",
      "\n",
      "   DiabetesPedigreeFunction  Age  Outcome  \n",
      "0                     0.627   50        1  \n",
      "1                     0.351   31        0  \n",
      "2                     0.672   32        1  \n",
      "3                     0.167   21        0  \n",
      "4                     2.288   33        1  \n",
      "\n",
      " Cleaned Dataset: \n",
      "    Id  Pregnancies  Glucose  BloodPressure  SkinThickness  Insulin   BMI  \\\n",
      "0   1            6    148.0           72.0           35.0      NaN  33.6   \n",
      "1   2            1     85.0           66.0           29.0      NaN  26.6   \n",
      "2   3            8    183.0           64.0            NaN      NaN  23.3   \n",
      "3   4            1     89.0           66.0           23.0     94.0  28.1   \n",
      "4   5            0    137.0           40.0           35.0    168.0  43.1   \n",
      "\n",
      "   DiabetesPedigreeFunction  Age  Outcome  \n",
      "0                     0.627   50        1  \n",
      "1                     0.351   31        0  \n",
      "2                     0.672   32        1  \n",
      "3                     0.167   21        0  \n",
      "4                     2.288   33        1  \n",
      "\n",
      " Original Dataset: \n",
      "         Id  Pregnancies  Glucose  BloodPressure  SkinThickness  Insulin   BMI  \\\n",
      "2763  2764            2       75             64             24       55  29.7   \n",
      "2764  2765            8      179             72             42      130  32.7   \n",
      "2765  2766            6       85             78              0        0  31.2   \n",
      "2766  2767            0      129            110             46      130  67.1   \n",
      "2767  2768            2       81             72             15       76  30.1   \n",
      "\n",
      "      DiabetesPedigreeFunction  Age  Outcome  \n",
      "2763                     0.370   33        0  \n",
      "2764                     0.719   36        1  \n",
      "2765                     0.382   42        0  \n",
      "2766                     0.319   26        1  \n",
      "2767                     0.547   25        0  \n",
      "\n",
      " Cleaned Dataset: \n",
      "         Id  Pregnancies  Glucose  BloodPressure  SkinThickness  Insulin   BMI  \\\n",
      "2763  2764            2     75.0           64.0           24.0     55.0  29.7   \n",
      "2764  2765            8    179.0           72.0           42.0    130.0  32.7   \n",
      "2765  2766            6     85.0           78.0            NaN      NaN  31.2   \n",
      "2766  2767            0    129.0          110.0           46.0    130.0  67.1   \n",
      "2767  2768            2     81.0           72.0           15.0     76.0  30.1   \n",
      "\n",
      "      DiabetesPedigreeFunction  Age  Outcome  \n",
      "2763                     0.370   33        0  \n",
      "2764                     0.719   36        1  \n",
      "2765                     0.382   42        0  \n",
      "2766                     0.319   26        1  \n",
      "2767                     0.547   25        0  \n"
     ]
    }
   ],
   "execution_count": 217
  },
  {
   "metadata": {},
   "cell_type": "markdown",
   "source": "As we can see from the output of the cell above, there are now NaN values ion the cleaned dataset where there were 0 values in the original dataset. This is the desired outcome of the Data Preprocessing step.\n",
   "id": "8bf83c7324cee6c4"
  },
  {
   "metadata": {
    "ExecuteTime": {
     "end_time": "2024-12-05T16:32:53.167672Z",
     "start_time": "2024-12-05T16:32:53.163440Z"
    }
   },
   "cell_type": "code",
   "source": [
    "#Attempt to display rows with 0 values in the glucose column of the cleaned dataset to validate the cleaning (Expected output is an empty DataFrame)\n",
    "print(f\"\\n Examples of Rows with 0 values in the Glucose column in the cleaned dataset: \\n\", diabetes_data_cleaned.loc[diabetes_data_cleaned['Glucose'] == 0].head())"
   ],
   "id": "21bb5e0112545a80",
   "outputs": [
    {
     "name": "stdout",
     "output_type": "stream",
     "text": [
      "\n",
      " Examples of Rows with 0 values in the Glucose column in the cleaned dataset: \n",
      " Empty DataFrame\n",
      "Columns: [Id, Pregnancies, Glucose, BloodPressure, SkinThickness, Insulin, BMI, DiabetesPedigreeFunction, Age, Outcome]\n",
      "Index: []\n"
     ]
    }
   ],
   "execution_count": 218
  },
  {
   "metadata": {},
   "cell_type": "markdown",
   "source": "## Data Preprocessing Continued ",
   "id": "2ccfe617f070f817"
  },
  {
   "metadata": {
    "ExecuteTime": {
     "end_time": "2024-12-05T16:32:53.199307Z",
     "start_time": "2024-12-05T16:32:53.186855Z"
    }
   },
   "cell_type": "code",
   "source": [
    "# Display the proportion of missing values in the cleaned dataset as a percentage\n",
    "print(f\"\\n Proportion of missing values in the cleaned dataset: \\n\", diabetes_data_cleaned.isnull().mean() * 100)\n",
    "# save cleaned dataset to csv to work on \n",
    "diabetes_data_cleaned.to_csv(\"Datasets/Diabetes-Dataset-Cleaned.csv\", index=False)\n",
    "\n"
   ],
   "id": "b38960488bdf288c",
   "outputs": [
    {
     "name": "stdout",
     "output_type": "stream",
     "text": [
      "\n",
      " Proportion of missing values in the cleaned dataset: \n",
      " Id                           0.000000\n",
      "Pregnancies                  0.000000\n",
      "Glucose                      0.650289\n",
      "BloodPressure                4.515896\n",
      "SkinThickness               28.901734\n",
      "Insulin                     48.049133\n",
      "BMI                          1.408960\n",
      "DiabetesPedigreeFunction     0.000000\n",
      "Age                          0.000000\n",
      "Outcome                      0.000000\n",
      "dtype: float64\n"
     ]
    }
   ],
   "execution_count": 219
  },
  {
   "metadata": {},
   "cell_type": "markdown",
   "source": "As we can see from the output above, the proportion of missing values in the dataset is quite high, especially in the Skin Thickness and Insulin columns. ",
   "id": "75f6aa5631a36089"
  },
  {
   "metadata": {},
   "cell_type": "markdown",
   "source": [
    "## Handling Missing Values\n",
    "Below we will now handle the missing values from above \n",
    "\n"
   ],
   "id": "3f72e809f094685"
  },
  {
   "metadata": {},
   "cell_type": "markdown",
   "source": [
    "### Handling Insulin Missing Values\n",
    "Due to the large percentage of missing values in his column, any values imputed will not accurately represent the dataset correctly. Due to this, we should drop the column from the dataset."
   ],
   "id": "15ac04d807b161fe"
  },
  {
   "metadata": {
    "ExecuteTime": {
     "end_time": "2024-12-05T16:32:53.218717Z",
     "start_time": "2024-12-05T16:32:53.214448Z"
    }
   },
   "cell_type": "code",
   "source": [
    "#handle missing Insulin values \n",
    "# Display the number of missing values in the Insulin column\n",
    "print(f\"\\n Number of missing values in the Insulin column before imputation: \\n\", diabetes_data_cleaned['Insulin'].isnull().sum())\n",
    "\n",
    "# Drop the Insulin column from the dataset\n",
    "diabetes_data_cleaned.drop(columns=['Insulin'], inplace=True)\n",
    "\n",
    "\n",
    "\n"
   ],
   "id": "e319792c6c7cc23f",
   "outputs": [
    {
     "name": "stdout",
     "output_type": "stream",
     "text": [
      "\n",
      " Number of missing values in the Insulin column before imputation: \n",
      " 1330\n"
     ]
    }
   ],
   "execution_count": 220
  },
  {
   "metadata": {},
   "cell_type": "markdown",
   "source": [
    "### Handling Skin Thickness Missing Values\n",
    "Due to the large percentage of missing values in the Skin Thickness column, any values imputed will not accurately represent the dataset correctly. Due to this, we should drop the column from the dataset."
   ],
   "id": "c44fe31c6ee48da5"
  },
  {
   "metadata": {
    "ExecuteTime": {
     "end_time": "2024-12-05T16:32:53.312141Z",
     "start_time": "2024-12-05T16:32:53.307515Z"
    }
   },
   "cell_type": "code",
   "source": [
    "#handle missing Skin Thickness values\n",
    "# Display the number of missing values in the Skin Thickness column\n",
    "print(f\"\\n Number of missing values in the Skin Thickness column before imputation: \\n\", diabetes_data_cleaned['SkinThickness'].isnull().sum())\n",
    "\n",
    "# Drop the Skin Thickness column from the dataset\n",
    "diabetes_data_cleaned.drop(columns=['SkinThickness'], inplace=True)\n"
   ],
   "id": "e16b8271b12a71db",
   "outputs": [
    {
     "name": "stdout",
     "output_type": "stream",
     "text": [
      "\n",
      " Number of missing values in the Skin Thickness column before imputation: \n",
      " 800\n"
     ]
    }
   ],
   "execution_count": 221
  },
  {
   "metadata": {},
   "cell_type": "markdown",
   "source": "### Handling BMI Missing Values\n",
   "id": "808be57e95923a2c"
  },
  {
   "metadata": {
    "ExecuteTime": {
     "end_time": "2024-12-05T16:32:53.433258Z",
     "start_time": "2024-12-05T16:32:53.424244Z"
    }
   },
   "cell_type": "code",
   "source": [
    "# print example rows of missing BMI values\n",
    "print(f\"\\n Example rows of missing BMI values: \\n\", diabetes_data_cleaned.loc[diabetes_data_cleaned['BMI'].isnull()].head())\n",
    "\n",
    "# Display the number of missing values in the BMI column\n",
    "print(f\"\\n Number of missing values in the BMI column before imputation: \\n\", diabetes_data_cleaned['BMI'].isnull().sum())\n",
    "\n",
    "# impute the missing values in the BMI column with the mean(average) value\n",
    "imputer = SimpleImputer(strategy='mean')\n",
    "diabetes_data_cleaned['BMI'] = imputer.fit_transform(diabetes_data_cleaned[['BMI']])\n",
    "# Display the number of missing values in the BMI column after imputation\n",
    "print(f\"\\n Number of missing values in the BMI column after imputation: \\n\", diabetes_data_cleaned['BMI'].isnull().sum())\n",
    "#  print some values to validate the imputation\n",
    "print(f\"\\n Some values in the BMI column after imputation: \\n\", diabetes_data_cleaned.loc[diabetes_data_cleaned['Id']== 10, 'BMI'].values[0])\n",
    "print(f\"\\n Some values in the BMI column after imputation: \\n\", diabetes_data_cleaned.loc[diabetes_data_cleaned['Id']== 50, 'BMI'].values[0])\n",
    "# if are the same, imputing has worked\n"
   ],
   "id": "1849f19403d49781",
   "outputs": [
    {
     "name": "stdout",
     "output_type": "stream",
     "text": [
      "\n",
      " Example rows of missing BMI values: \n",
      "       Id  Pregnancies  Glucose  BloodPressure  BMI  DiabetesPedigreeFunction  \\\n",
      "9     10            8    125.0           96.0  NaN                     0.232   \n",
      "49    50            7    105.0            NaN  NaN                     0.305   \n",
      "60    61            2     84.0            NaN  NaN                     0.304   \n",
      "81    82            2     74.0            NaN  NaN                     0.102   \n",
      "145  146            0    102.0           75.0  NaN                     0.572   \n",
      "\n",
      "     Age  Outcome  \n",
      "9     54        1  \n",
      "49    24        0  \n",
      "60    21        0  \n",
      "81    22        0  \n",
      "145   21        0  \n",
      "\n",
      " Number of missing values in the BMI column before imputation: \n",
      " 39\n",
      "\n",
      " Number of missing values in the BMI column after imputation: \n",
      " 0\n",
      "\n",
      " Some values in the BMI column after imputation: \n",
      " 32.59666544521803\n",
      "\n",
      " Some values in the BMI column after imputation: \n",
      " 32.59666544521803\n"
     ]
    }
   ],
   "execution_count": 222
  },
  {
   "metadata": {},
   "cell_type": "markdown",
   "source": "### Handling Blood Pressure Missing Values",
   "id": "8acda39df2e17624"
  },
  {
   "metadata": {
    "ExecuteTime": {
     "end_time": "2024-12-05T16:32:53.462829Z",
     "start_time": "2024-12-05T16:32:53.457344Z"
    }
   },
   "cell_type": "code",
   "source": [
    "# print example rows of missing Blood Pressure values\n",
    "print(f\"\\n Example rows of missing Blood Pressure values: \\n\", diabetes_data_cleaned.loc[diabetes_data_cleaned['BloodPressure'].isnull()].head())\n",
    "# take note of the id of the rows with missing values, can be used later to validate to ensure missing data handling has worked\n",
    "\n",
    "# Display the number of missing values in the Blood Pressure column\n",
    "print(f\"\\n Number of missing values in the Blood Pressure column before imputation: \\n\", diabetes_data_cleaned['BloodPressure'].isnull().sum())\n",
    "\n"
   ],
   "id": "dffffca1d9dd90c0",
   "outputs": [
    {
     "name": "stdout",
     "output_type": "stream",
     "text": [
      "\n",
      " Example rows of missing Blood Pressure values: \n",
      "     Id  Pregnancies  Glucose  BloodPressure        BMI  \\\n",
      "7    8           10    115.0            NaN  35.300000   \n",
      "15  16            7    100.0            NaN  30.000000   \n",
      "49  50            7    105.0            NaN  32.596665   \n",
      "60  61            2     84.0            NaN  32.596665   \n",
      "78  79            0    131.0            NaN  43.200000   \n",
      "\n",
      "    DiabetesPedigreeFunction  Age  Outcome  \n",
      "7                      0.134   29        0  \n",
      "15                     0.484   32        1  \n",
      "49                     0.305   24        0  \n",
      "60                     0.304   21        0  \n",
      "78                     0.270   26        1  \n",
      "\n",
      " Number of missing values in the Blood Pressure column before imputation: \n",
      " 125\n"
     ]
    }
   ],
   "execution_count": 223
  }
 ],
 "metadata": {
  "kernelspec": {
   "display_name": "Python 3",
   "language": "python",
   "name": "python3"
  },
  "language_info": {
   "codemirror_mode": {
    "name": "ipython",
    "version": 2
   },
   "file_extension": ".py",
   "mimetype": "text/x-python",
   "name": "python",
   "nbconvert_exporter": "python",
   "pygments_lexer": "ipython2",
   "version": "2.7.6"
  }
 },
 "nbformat": 4,
 "nbformat_minor": 5
}
