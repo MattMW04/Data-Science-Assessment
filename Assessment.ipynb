{
 "cells": [
  {
   "metadata": {},
   "cell_type": "markdown",
   "source": "# Data Science Assessment",
   "id": "c9dd8dbe76202054"
  },
  {
   "metadata": {},
   "cell_type": "markdown",
   "source": "",
   "id": "5c4de50955caeb9a"
  },
  {
   "metadata": {
    "ExecuteTime": {
     "end_time": "2024-12-05T15:24:05.972257Z",
     "start_time": "2024-12-05T15:24:05.968703Z"
    }
   },
   "cell_type": "code",
   "source": [
    "#Cell to import necessary Libraries\n",
    "import pandas as pd\n",
    "import numpy as np"
   ],
   "id": "1b07eb5b0b704d73",
   "outputs": [],
   "execution_count": 52
  },
  {
   "metadata": {},
   "cell_type": "markdown",
   "source": [
    "## Data Exploration\n",
    "In this section, we will load the dataset into a Pandas DataFrame and perform some initial data exploration to understand the dataset better. We will check the shape of the dataset, data types of columns, display the first 5 rows of the dataset, display the last 5 rows of the dataset, display 20 random rows of the dataset, and check for null/NAN values in the dataset. This will help us get the first idea of what the Data is and what data will need to be Cleaned.\n"
   ],
   "id": "9b86b270a3a4a91e"
  },
  {
   "metadata": {
    "ExecuteTime": {
     "end_time": "2024-12-05T15:24:06.025176Z",
     "start_time": "2024-12-05T15:24:05.997270Z"
    }
   },
   "cell_type": "code",
   "source": [
    "# Define Path to Dataset\n",
    "path = \"Datasets/Diabetes Dataset.csv\"\n",
    "\n",
    "# Load dataset into Pandas DataFrame\n",
    "df = pd.read_csv(path)\n",
    "\n",
    "# Display the shape of the dataset\n",
    "print(f\"Shape of the dataset: {df.shape}\")\n",
    "\n",
    "#Display data types of columns in the Dataset\n",
    "print(f\"Data types of columns in the dataset: {df.dtypes}\")\n",
    "\n",
    "# Display the first 5 rows of the dataset\n",
    "print(df.head())\n",
    "\n",
    "# display last 5 rows of the dataset\n",
    "print(df.tail())\n",
    "\n",
    "# display 20 rows of data \n",
    "print(df.sample(20))\n",
    "\n",
    "# Display null/NAN values in the dataset\n",
    "print(f\"\\n Null/NAN values:\", df.isnull().sum())\n",
    "\n",
    "#Display rows with 0 values in the Glucose a column\n",
    "print(f\"\\n Rows with 0 values in the Glucose column: \\n\", df.loc[df['Glucose'] == 0].head())\n",
    "\n",
    "# Display the summary statistics of the dataset\n",
    "print(f\"\\n Summary Statistics of the dataset: \\n\", df.describe())\n",
    "\n",
    "\n"
   ],
   "id": "93152008841a4f36",
   "outputs": [
    {
     "name": "stdout",
     "output_type": "stream",
     "text": [
      "Shape of the dataset: (2768, 10)\n",
      "Data types of columns in the dataset: Id                            int64\n",
      "Pregnancies                   int64\n",
      "Glucose                       int64\n",
      "BloodPressure                 int64\n",
      "SkinThickness                 int64\n",
      "Insulin                       int64\n",
      "BMI                         float64\n",
      "DiabetesPedigreeFunction    float64\n",
      "Age                           int64\n",
      "Outcome                       int64\n",
      "dtype: object\n",
      "   Id  Pregnancies  Glucose  BloodPressure  SkinThickness  Insulin   BMI  \\\n",
      "0   1            6      148             72             35        0  33.6   \n",
      "1   2            1       85             66             29        0  26.6   \n",
      "2   3            8      183             64              0        0  23.3   \n",
      "3   4            1       89             66             23       94  28.1   \n",
      "4   5            0      137             40             35      168  43.1   \n",
      "\n",
      "   DiabetesPedigreeFunction  Age  Outcome  \n",
      "0                     0.627   50        1  \n",
      "1                     0.351   31        0  \n",
      "2                     0.672   32        1  \n",
      "3                     0.167   21        0  \n",
      "4                     2.288   33        1  \n",
      "        Id  Pregnancies  Glucose  BloodPressure  SkinThickness  Insulin   BMI  \\\n",
      "2763  2764            2       75             64             24       55  29.7   \n",
      "2764  2765            8      179             72             42      130  32.7   \n",
      "2765  2766            6       85             78              0        0  31.2   \n",
      "2766  2767            0      129            110             46      130  67.1   \n",
      "2767  2768            2       81             72             15       76  30.1   \n",
      "\n",
      "      DiabetesPedigreeFunction  Age  Outcome  \n",
      "2763                     0.370   33        0  \n",
      "2764                     0.719   36        1  \n",
      "2765                     0.382   42        0  \n",
      "2766                     0.319   26        1  \n",
      "2767                     0.547   25        0  \n",
      "        Id  Pregnancies  Glucose  BloodPressure  SkinThickness  Insulin   BMI  \\\n",
      "877    878            0       95             85             25       36  37.4   \n",
      "44      45            7      159             64              0        0  27.4   \n",
      "2511  2512            2      155             52             27      540  38.7   \n",
      "2247  2248            1      119             88             41      170  45.3   \n",
      "1459  1460           13      158            114              0        0  42.3   \n",
      "2381  2382            5      189             64             33      325  31.2   \n",
      "1778  1779            1       88             62             24       44  29.9   \n",
      "1913  1914            1      140             74             26      180  24.1   \n",
      "708    709            9      164             78              0        0  32.8   \n",
      "1786  1787            0      198             66             32      274  41.3   \n",
      "324    325            2      112             75             32        0  35.7   \n",
      "2309  2310            4       85             58             22       49  27.8   \n",
      "315    316            2      112             68             22       94  34.1   \n",
      "2351  2352            0      126             84             29      215  30.7   \n",
      "38      39            2       90             68             42        0  38.2   \n",
      "1449  1450            0      162             76             36        0  49.6   \n",
      "2717  2718            1      117             88             24      145  34.5   \n",
      "1627  1628            3      100             68             23       81  31.6   \n",
      "1611  1612            2      105             58             40       94  34.9   \n",
      "1548  1549            6       80             66             30        0  26.2   \n",
      "\n",
      "      DiabetesPedigreeFunction  Age  Outcome  \n",
      "877                      0.247   24        1  \n",
      "44                       0.294   40        0  \n",
      "2511                     0.240   25        1  \n",
      "2247                     0.507   26        0  \n",
      "1459                     0.257   44        1  \n",
      "2381                     0.583   29        1  \n",
      "1778                     0.422   23        0  \n",
      "1913                     0.828   23        0  \n",
      "708                      0.148   45        1  \n",
      "1786                     0.502   28        1  \n",
      "324                      0.148   21        0  \n",
      "2309                     0.306   28        0  \n",
      "315                      0.315   26        0  \n",
      "2351                     0.520   24        0  \n",
      "38                       0.503   27        1  \n",
      "1449                     0.364   26        1  \n",
      "2717                     0.403   40        1  \n",
      "1627                     0.949   28        0  \n",
      "1611                     0.225   25        0  \n",
      "1548                     0.313   41        0  \n",
      "\n",
      " Null/NAN values: Id                          0\n",
      "Pregnancies                 0\n",
      "Glucose                     0\n",
      "BloodPressure               0\n",
      "SkinThickness               0\n",
      "Insulin                     0\n",
      "BMI                         0\n",
      "DiabetesPedigreeFunction    0\n",
      "Age                         0\n",
      "Outcome                     0\n",
      "dtype: int64\n",
      "\n",
      " Rows with 0 values in the Glucose column: \n",
      "       Id  Pregnancies  Glucose  BloodPressure  SkinThickness  Insulin   BMI  \\\n",
      "75    76            1        0             48             20        0  24.7   \n",
      "182  183            1        0             74             20       23  27.7   \n",
      "342  343            1        0             68             35        0  32.0   \n",
      "349  350            5        0             80             32        0  41.0   \n",
      "502  503            6        0             68             41        0  39.0   \n",
      "\n",
      "     DiabetesPedigreeFunction  Age  Outcome  \n",
      "75                      0.140   22        0  \n",
      "182                     0.299   21        0  \n",
      "342                     0.389   22        0  \n",
      "349                     0.346   37        1  \n",
      "502                     0.727   41        1  \n",
      "\n",
      " Summary Statistics of the dataset: \n",
      "                 Id  Pregnancies      Glucose  BloodPressure  SkinThickness  \\\n",
      "count  2768.000000  2768.000000  2768.000000    2768.000000    2768.000000   \n",
      "mean   1384.500000     3.742775   121.102601      69.134393      20.824422   \n",
      "std     799.197097     3.323801    32.036508      19.231438      16.059596   \n",
      "min       1.000000     0.000000     0.000000       0.000000       0.000000   \n",
      "25%     692.750000     1.000000    99.000000      62.000000       0.000000   \n",
      "50%    1384.500000     3.000000   117.000000      72.000000      23.000000   \n",
      "75%    2076.250000     6.000000   141.000000      80.000000      32.000000   \n",
      "max    2768.000000    17.000000   199.000000     122.000000     110.000000   \n",
      "\n",
      "           Insulin          BMI  DiabetesPedigreeFunction          Age  \\\n",
      "count  2768.000000  2768.000000               2768.000000  2768.000000   \n",
      "mean     80.127890    32.137392                  0.471193    33.132225   \n",
      "std     112.301933     8.076127                  0.325669    11.777230   \n",
      "min       0.000000     0.000000                  0.078000    21.000000   \n",
      "25%       0.000000    27.300000                  0.244000    24.000000   \n",
      "50%      37.000000    32.200000                  0.375000    29.000000   \n",
      "75%     130.000000    36.625000                  0.624000    40.000000   \n",
      "max     846.000000    80.600000                  2.420000    81.000000   \n",
      "\n",
      "           Outcome  \n",
      "count  2768.000000  \n",
      "mean      0.343931  \n",
      "std       0.475104  \n",
      "min       0.000000  \n",
      "25%       0.000000  \n",
      "50%       0.000000  \n",
      "75%       1.000000  \n",
      "max       1.000000  \n"
     ]
    }
   ],
   "execution_count": 53
  },
  {
   "metadata": {},
   "cell_type": "markdown",
   "source": [
    "## Continued Data Exploration\n",
    "From our initial Exploration, we can see that there are no NAN/ Null values in the dataset. However, some columns have 0 in which should not be possible. We will explore which ones these are in a below cell"
   ],
   "id": "7a7cf314cd4f05ee"
  },
  {
   "metadata": {
    "ExecuteTime": {
     "end_time": "2024-12-05T15:24:06.050698Z",
     "start_time": "2024-12-05T15:24:06.036855Z"
    }
   },
   "cell_type": "code",
   "source": [
    "#Display rows with 0 Value in the Glucose  column\n",
    "print(f\"\\n Examples of Rows with 0 values in the Glucose column: \\n\", df.loc[df['Glucose'] == 0].head())\n",
    "#Display rows with 0 Value in the BloodPressure  column\n",
    "print(f\"\\n Examples of Rows with 0 values in the BloodPressure column: \\n\", df.loc[df['BloodPressure'] == 0].head())\n",
    "#Display rows with 0 Value in the SkinThickness  column\n",
    "print(f\"\\n Examples of Rows with 0 values in the SkinThickness column: \\n\", df.loc[df['SkinThickness'] == 0].head())\n",
    "#Display rows with 0 Value in the Insulin  column\n",
    "print(f\"\\n Examples of Rows with 0 values in the Insulin column: \\n\", df.loc[df['Insulin'] == 0].head())\n",
    "#Display rows with 0 Value in the BMI  column\n",
    "print(f\"\\n Examples Rows with 0 values in the BMI column: \\n\", df.loc[df['BMI'] == 0].head())\n",
    "\n"
   ],
   "id": "1141f4d7527dc21f",
   "outputs": [
    {
     "name": "stdout",
     "output_type": "stream",
     "text": [
      "\n",
      " Examples of Rows with 0 values in the Glucose column: \n",
      "       Id  Pregnancies  Glucose  BloodPressure  SkinThickness  Insulin   BMI  \\\n",
      "75    76            1        0             48             20        0  24.7   \n",
      "182  183            1        0             74             20       23  27.7   \n",
      "342  343            1        0             68             35        0  32.0   \n",
      "349  350            5        0             80             32        0  41.0   \n",
      "502  503            6        0             68             41        0  39.0   \n",
      "\n",
      "     DiabetesPedigreeFunction  Age  Outcome  \n",
      "75                      0.140   22        0  \n",
      "182                     0.299   21        0  \n",
      "342                     0.389   22        0  \n",
      "349                     0.346   37        1  \n",
      "502                     0.727   41        1  \n",
      "\n",
      " Examples of Rows with 0 values in the BloodPressure column: \n",
      "     Id  Pregnancies  Glucose  BloodPressure  SkinThickness  Insulin   BMI  \\\n",
      "7    8           10      115              0              0        0  35.3   \n",
      "15  16            7      100              0              0        0  30.0   \n",
      "49  50            7      105              0              0        0   0.0   \n",
      "60  61            2       84              0              0        0   0.0   \n",
      "78  79            0      131              0              0        0  43.2   \n",
      "\n",
      "    DiabetesPedigreeFunction  Age  Outcome  \n",
      "7                      0.134   29        0  \n",
      "15                     0.484   32        1  \n",
      "49                     0.305   24        0  \n",
      "60                     0.304   21        0  \n",
      "78                     0.270   26        1  \n",
      "\n",
      " Examples of Rows with 0 values in the SkinThickness column: \n",
      "     Id  Pregnancies  Glucose  BloodPressure  SkinThickness  Insulin   BMI  \\\n",
      "2    3            8      183             64              0        0  23.3   \n",
      "5    6            5      116             74              0        0  25.6   \n",
      "7    8           10      115              0              0        0  35.3   \n",
      "9   10            8      125             96              0        0   0.0   \n",
      "10  11            4      110             92              0        0  37.6   \n",
      "\n",
      "    DiabetesPedigreeFunction  Age  Outcome  \n",
      "2                      0.672   32        1  \n",
      "5                      0.201   30        0  \n",
      "7                      0.134   29        0  \n",
      "9                      0.232   54        1  \n",
      "10                     0.191   30        0  \n",
      "\n",
      " Examples of Rows with 0 values in the Insulin column: \n",
      "    Id  Pregnancies  Glucose  BloodPressure  SkinThickness  Insulin   BMI  \\\n",
      "0   1            6      148             72             35        0  33.6   \n",
      "1   2            1       85             66             29        0  26.6   \n",
      "2   3            8      183             64              0        0  23.3   \n",
      "5   6            5      116             74              0        0  25.6   \n",
      "7   8           10      115              0              0        0  35.3   \n",
      "\n",
      "   DiabetesPedigreeFunction  Age  Outcome  \n",
      "0                     0.627   50        1  \n",
      "1                     0.351   31        0  \n",
      "2                     0.672   32        1  \n",
      "5                     0.201   30        0  \n",
      "7                     0.134   29        0  \n",
      "\n",
      " Examples Rows with 0 values in the BMI column: \n",
      "       Id  Pregnancies  Glucose  BloodPressure  SkinThickness  Insulin  BMI  \\\n",
      "9     10            8      125             96              0        0  0.0   \n",
      "49    50            7      105              0              0        0  0.0   \n",
      "60    61            2       84              0              0        0  0.0   \n",
      "81    82            2       74              0              0        0  0.0   \n",
      "145  146            0      102             75             23        0  0.0   \n",
      "\n",
      "     DiabetesPedigreeFunction  Age  Outcome  \n",
      "9                       0.232   54        1  \n",
      "49                      0.305   24        0  \n",
      "60                      0.304   21        0  \n",
      "81                      0.102   22        0  \n",
      "145                     0.572   21        0  \n"
     ]
    }
   ],
   "execution_count": 54
  },
  {
   "metadata": {},
   "cell_type": "markdown",
   "source": [
    "## Data Preprocessing\n",
    "From the first look at the Dataset, we can see that some of the Columns : Skin Thickness, Insulin, BMI, Blood Pressure, and Glucose have zero values which are not possible. We will replace these zero values with NaN values and then check the proportion of missing values in the dataset, which will help us to decide on the best way to handle the missing values. This way, we can make the Data more useful for purpose of Data analytics and any predictive models"
   ],
   "id": "bb0e204e61154e3f"
  },
  {
   "metadata": {
    "ExecuteTime": {
     "end_time": "2024-12-05T15:24:06.079163Z",
     "start_time": "2024-12-05T15:24:06.072717Z"
    }
   },
   "cell_type": "code",
   "source": [
    "\n",
    "# Define column names of relevant columns \n",
    "columns_to_clean = ['Glucose', 'BloodPressure', 'SkinThickness', 'Insulin', 'BMI']\n",
    "# Duplicate DataFrame to be worked on (can be used to validate this step to check values have changed)\n",
    "diabetes_data_cleaned = df.copy()\n",
    "# Replace 0 with NAN value using numpy\n",
    "diabetes_data_cleaned[columns_to_clean] = diabetes_data_cleaned[columns_to_clean].replace(0, np.nan)"
   ],
   "id": "3cc089f80e4d9160",
   "outputs": [],
   "execution_count": 55
  },
  {
   "metadata": {},
   "cell_type": "markdown",
   "source": [
    "## Data PreProcessing Validation \n",
    "This section will be used to compare the original DataFrame to the Modified dataframe from above (Note: This is just to validate that the above preprocessing worked as intended)\n"
   ],
   "id": "c84dccd3dcd413f"
  },
  {
   "metadata": {
    "ExecuteTime": {
     "end_time": "2024-12-05T15:24:06.104015Z",
     "start_time": "2024-12-05T15:24:06.094730Z"
    }
   },
   "cell_type": "code",
   "source": [
    "# Display the first 5 rows of the original dataset\n",
    "print(\"\\n Original Dataset: \\n\", df.head())\n",
    "# Display the first 5 rows of the cleaned dataset\n",
    "print(\"\\n Cleaned Dataset: \\n\", diabetes_data_cleaned.head())\n",
    "\n",
    "# Display the last 5 rows of the original dataset\n",
    "print(\"\\n Original Dataset: \\n\", df.tail())\n",
    "# Display the last 5 rows of the cleaned dataset\n",
    "print(\"\\n Cleaned Dataset: \\n\", diabetes_data_cleaned.tail())\n",
    "\n",
    "\n"
   ],
   "id": "bf721ef5e05fb5a",
   "outputs": [
    {
     "name": "stdout",
     "output_type": "stream",
     "text": [
      "\n",
      " Original Dataset: \n",
      "    Id  Pregnancies  Glucose  BloodPressure  SkinThickness  Insulin   BMI  \\\n",
      "0   1            6      148             72             35        0  33.6   \n",
      "1   2            1       85             66             29        0  26.6   \n",
      "2   3            8      183             64              0        0  23.3   \n",
      "3   4            1       89             66             23       94  28.1   \n",
      "4   5            0      137             40             35      168  43.1   \n",
      "\n",
      "   DiabetesPedigreeFunction  Age  Outcome  \n",
      "0                     0.627   50        1  \n",
      "1                     0.351   31        0  \n",
      "2                     0.672   32        1  \n",
      "3                     0.167   21        0  \n",
      "4                     2.288   33        1  \n",
      "\n",
      " Cleaned Dataset: \n",
      "    Id  Pregnancies  Glucose  BloodPressure  SkinThickness  Insulin   BMI  \\\n",
      "0   1            6    148.0           72.0           35.0      NaN  33.6   \n",
      "1   2            1     85.0           66.0           29.0      NaN  26.6   \n",
      "2   3            8    183.0           64.0            NaN      NaN  23.3   \n",
      "3   4            1     89.0           66.0           23.0     94.0  28.1   \n",
      "4   5            0    137.0           40.0           35.0    168.0  43.1   \n",
      "\n",
      "   DiabetesPedigreeFunction  Age  Outcome  \n",
      "0                     0.627   50        1  \n",
      "1                     0.351   31        0  \n",
      "2                     0.672   32        1  \n",
      "3                     0.167   21        0  \n",
      "4                     2.288   33        1  \n",
      "\n",
      " Original Dataset: \n",
      "         Id  Pregnancies  Glucose  BloodPressure  SkinThickness  Insulin   BMI  \\\n",
      "2763  2764            2       75             64             24       55  29.7   \n",
      "2764  2765            8      179             72             42      130  32.7   \n",
      "2765  2766            6       85             78              0        0  31.2   \n",
      "2766  2767            0      129            110             46      130  67.1   \n",
      "2767  2768            2       81             72             15       76  30.1   \n",
      "\n",
      "      DiabetesPedigreeFunction  Age  Outcome  \n",
      "2763                     0.370   33        0  \n",
      "2764                     0.719   36        1  \n",
      "2765                     0.382   42        0  \n",
      "2766                     0.319   26        1  \n",
      "2767                     0.547   25        0  \n",
      "\n",
      " Cleaned Dataset: \n",
      "         Id  Pregnancies  Glucose  BloodPressure  SkinThickness  Insulin   BMI  \\\n",
      "2763  2764            2     75.0           64.0           24.0     55.0  29.7   \n",
      "2764  2765            8    179.0           72.0           42.0    130.0  32.7   \n",
      "2765  2766            6     85.0           78.0            NaN      NaN  31.2   \n",
      "2766  2767            0    129.0          110.0           46.0    130.0  67.1   \n",
      "2767  2768            2     81.0           72.0           15.0     76.0  30.1   \n",
      "\n",
      "      DiabetesPedigreeFunction  Age  Outcome  \n",
      "2763                     0.370   33        0  \n",
      "2764                     0.719   36        1  \n",
      "2765                     0.382   42        0  \n",
      "2766                     0.319   26        1  \n",
      "2767                     0.547   25        0  \n"
     ]
    }
   ],
   "execution_count": 56
  },
  {
   "metadata": {},
   "cell_type": "markdown",
   "source": "As we can see from the output of the cell above, there are now NaN values ion the cleaned dataset where there were 0 values in the original dataset. This is the desired outcome of the Data Preprocessing step.\n",
   "id": "8bf83c7324cee6c4"
  },
  {
   "metadata": {
    "ExecuteTime": {
     "end_time": "2024-12-05T15:24:06.125154Z",
     "start_time": "2024-12-05T15:24:06.120554Z"
    }
   },
   "cell_type": "code",
   "source": [
    "#Attempt to display rows with 0 values in the glucose column of the cleaned dataset to validate the cleaning (Expected output is an empty DataFrame)\n",
    "print(f\"\\n Examples of Rows with 0 values in the Glucose column in the cleaned dataset: \\n\", diabetes_data_cleaned.loc[diabetes_data_cleaned['Glucose'] == 0].head())"
   ],
   "id": "21bb5e0112545a80",
   "outputs": [
    {
     "name": "stdout",
     "output_type": "stream",
     "text": [
      "\n",
      " Examples of Rows with 0 values in the Glucose column in the cleaned dataset: \n",
      " Empty DataFrame\n",
      "Columns: [Id, Pregnancies, Glucose, BloodPressure, SkinThickness, Insulin, BMI, DiabetesPedigreeFunction, Age, Outcome]\n",
      "Index: []\n"
     ]
    }
   ],
   "execution_count": 57
  },
  {
   "metadata": {},
   "cell_type": "markdown",
   "source": "## Data Preprocessing Continued ",
   "id": "2ccfe617f070f817"
  },
  {
   "metadata": {
    "ExecuteTime": {
     "end_time": "2024-12-05T15:24:06.186628Z",
     "start_time": "2024-12-05T15:24:06.171910Z"
    }
   },
   "cell_type": "code",
   "source": [
    "# Display the proportion of missing values in the cleaned dataset as a percentage\n",
    "print(f\"\\n Proportion of missing values in the cleaned dataset: \\n\", diabetes_data_cleaned.isnull().mean() * 100)\n",
    "# save cleaned dataset to csv to work on \n",
    "diabetes_data_cleaned.to_csv(\"Datasets/Diabetes-Dataset-Cleaned.csv\", index=False)\n",
    "\n"
   ],
   "id": "b38960488bdf288c",
   "outputs": [
    {
     "name": "stdout",
     "output_type": "stream",
     "text": [
      "\n",
      " Proportion of missing values in the cleaned dataset: \n",
      " Id                           0.000000\n",
      "Pregnancies                  0.000000\n",
      "Glucose                      0.650289\n",
      "BloodPressure                4.515896\n",
      "SkinThickness               28.901734\n",
      "Insulin                     48.049133\n",
      "BMI                          1.408960\n",
      "DiabetesPedigreeFunction     0.000000\n",
      "Age                          0.000000\n",
      "Outcome                      0.000000\n",
      "dtype: float64\n"
     ]
    }
   ],
   "execution_count": 58
  },
  {
   "metadata": {},
   "cell_type": "markdown",
   "source": "As we can see from the output above, the proportion of missing values in the dataset is quite high, especially in the Skin Thickness and Insulin columns. ",
   "id": "75f6aa5631a36089"
  },
  {
   "metadata": {},
   "cell_type": "markdown",
   "source": "### Handling Missing Values\n",
   "id": "3f72e809f094685"
  },
  {
   "metadata": {
    "ExecuteTime": {
     "end_time": "2024-12-05T15:24:06.303246Z",
     "start_time": "2024-12-05T15:24:06.296146Z"
    }
   },
   "cell_type": "code",
   "source": [
    "#handle missing insulin values \n",
    "# Display the number of missing values in the Insulin column\n",
    "print(f\"\\n Number of missing values in the Insulin column before imputation: \\n\", diabetes_data_cleaned['Insulin'].isnull().sum())\n",
    "# impute the missing values in the Insulin column with the mean(average) value\n",
    "diabetes_data_cleaned['Insulin'].fillna(diabetes_data_cleaned['Insulin'].mean(), inplace=True)\n",
    "# Display the number of missing values in the Insulin column after imputation\n",
    "print(f\"\\n Number of missing values in the Insulin column after imputation: \\n\", diabetes_data_cleaned['Insulin'].isnull().sum())\n",
    "\n",
    "#print some values to validate the imputation\n",
    "print(f\"\\n Some values in the Insulin column after imputation: \\n\", diabetes_data_cleaned['Insulin'].head())\n",
    "\n"
   ],
   "id": "e319792c6c7cc23f",
   "outputs": [
    {
     "name": "stdout",
     "output_type": "stream",
     "text": [
      "\n",
      " Number of missing values in the Insulin column before imputation: \n",
      " 1330\n",
      "\n",
      " Number of missing values in the Insulin column after imputation: \n",
      " 0\n",
      "\n",
      " Some values in the Insulin column after imputation: \n",
      " 0    154.23783\n",
      "1    154.23783\n",
      "2    154.23783\n",
      "3     94.00000\n",
      "4    168.00000\n",
      "Name: Insulin, dtype: float64\n"
     ]
    },
    {
     "name": "stderr",
     "output_type": "stream",
     "text": [
      "C:\\Users\\mattw\\AppData\\Local\\Temp\\ipykernel_25340\\2688590905.py:5: FutureWarning: A value is trying to be set on a copy of a DataFrame or Series through chained assignment using an inplace method.\n",
      "The behavior will change in pandas 3.0. This inplace method will never work because the intermediate object on which we are setting values always behaves as a copy.\n",
      "\n",
      "For example, when doing 'df[col].method(value, inplace=True)', try using 'df.method({col: value}, inplace=True)' or df[col] = df[col].method(value) instead, to perform the operation inplace on the original object.\n",
      "\n",
      "\n",
      "  diabetes_data_cleaned['Insulin'].fillna(diabetes_data_cleaned['Insulin'].mean(), inplace=True)\n"
     ]
    }
   ],
   "execution_count": 59
  }
 ],
 "metadata": {
  "kernelspec": {
   "display_name": "Python 3",
   "language": "python",
   "name": "python3"
  },
  "language_info": {
   "codemirror_mode": {
    "name": "ipython",
    "version": 2
   },
   "file_extension": ".py",
   "mimetype": "text/x-python",
   "name": "python",
   "nbconvert_exporter": "python",
   "pygments_lexer": "ipython2",
   "version": "2.7.6"
  }
 },
 "nbformat": 4,
 "nbformat_minor": 5
}
